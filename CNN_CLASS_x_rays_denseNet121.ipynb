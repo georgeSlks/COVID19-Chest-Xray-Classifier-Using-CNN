{
  "nbformat": 4,
  "nbformat_minor": 0,
  "metadata": {
    "colab": {
      "provenance": [],
      "authorship_tag": "ABX9TyOwGHx56LVpmFntRrN2BnT2"
    },
    "kernelspec": {
      "name": "python3",
      "display_name": "Python 3"
    },
    "language_info": {
      "name": "python"
    }
  },
  "cells": [
    {
      "cell_type": "code",
      "execution_count": null,
      "metadata": {
        "colab": {
          "base_uri": "https://localhost:8080/"
        },
        "collapsed": true,
        "id": "VNiQIVCEgKC8",
        "outputId": "4ad24a85-6717-4f76-9374-4f122318020b"
      },
      "outputs": [
        {
          "output_type": "stream",
          "name": "stdout",
          "text": [
            "Drive already mounted at /content/drive; to attempt to forcibly remount, call drive.mount(\"/content/drive\", force_remount=True).\n"
          ]
        }
      ],
      "source": [
        "from google.colab import drive\n",
        "drive.mount('/content/drive')\n"
      ]
    },
    {
      "cell_type": "code",
      "source": [
        "!nvidia-smi\n"
      ],
      "metadata": {
        "id": "mFB15EyGWt05",
        "colab": {
          "base_uri": "https://localhost:8080/"
        },
        "collapsed": true,
        "outputId": "e8b417e2-a4d6-434a-bced-1c96f47359cb"
      },
      "execution_count": null,
      "outputs": [
        {
          "output_type": "stream",
          "name": "stdout",
          "text": [
            "Sat Jan  4 10:00:01 2025       \n",
            "+---------------------------------------------------------------------------------------+\n",
            "| NVIDIA-SMI 535.104.05             Driver Version: 535.104.05   CUDA Version: 12.2     |\n",
            "|-----------------------------------------+----------------------+----------------------+\n",
            "| GPU  Name                 Persistence-M | Bus-Id        Disp.A | Volatile Uncorr. ECC |\n",
            "| Fan  Temp   Perf          Pwr:Usage/Cap |         Memory-Usage | GPU-Util  Compute M. |\n",
            "|                                         |                      |               MIG M. |\n",
            "|=========================================+======================+======================|\n",
            "|   0  Tesla T4                       Off | 00000000:00:04.0 Off |                    0 |\n",
            "| N/A   58C    P0              31W /  70W |    149MiB / 15360MiB |      0%      Default |\n",
            "|                                         |                      |                  N/A |\n",
            "+-----------------------------------------+----------------------+----------------------+\n",
            "                                                                                         \n",
            "+---------------------------------------------------------------------------------------+\n",
            "| Processes:                                                                            |\n",
            "|  GPU   GI   CI        PID   Type   Process name                            GPU Memory |\n",
            "|        ID   ID                                                             Usage      |\n",
            "|=======================================================================================|\n",
            "+---------------------------------------------------------------------------------------+\n"
          ]
        }
      ]
    },
    {
      "cell_type": "code",
      "source": [
        "# Check if the drive is properly mounted\n",
        "import os\n",
        "print(\"Is Google Drive mounted?\", os.path.exists('/content/drive'))"
      ],
      "metadata": {
        "colab": {
          "base_uri": "https://localhost:8080/"
        },
        "id": "TgWKvUcTxYCv",
        "outputId": "6d44b7de-2289-4d3f-93d9-0c1e975c7579",
        "collapsed": true
      },
      "execution_count": null,
      "outputs": [
        {
          "output_type": "stream",
          "name": "stdout",
          "text": [
            "Is Google Drive mounted? True\n"
          ]
        }
      ]
    },
    {
      "cell_type": "code",
      "source": [
        "parent_folder = '/content/drive/MyDrive/Covid_xrays_classifier/xray_covid19_dataset/normal_dataset/normal test'\n",
        "if os.path.isdir(parent_folder):\n",
        "    print(\"Parent folder contents:\", os.listdir(parent_folder))\n",
        "else:\n",
        "    print(\"Parent folder does not exist.\")"
      ],
      "metadata": {
        "colab": {
          "base_uri": "https://localhost:8080/"
        },
        "id": "aA4g9xSLg7EX",
        "outputId": "f3c97c00-7f44-4319-e3ad-a2b7b268a3ed",
        "collapsed": true
      },
      "execution_count": null,
      "outputs": [
        {
          "output_type": "stream",
          "name": "stdout",
          "text": [
            "Parent folder contents: ['Normal-10164.png', 'Normal-1015.png', 'Normal-102.png', 'Normal-1034.png', 'Normal-10188.png', 'Normal-1023.png', 'Normal-1024.png', 'Normal-10189.png', 'Normal-1063.png', 'Normal-1058.png', 'Normal-1048.png', 'Normal-1051.png', 'Normal-1050.png', 'Normal-1061.png', 'Normal-1089.png', 'Normal-1099.png', 'Normal-1087.png', 'Normal-1104.png', 'Normal-1125.png', 'Normal-1115.png', 'Normal-1124.png', 'Normal-1126.png', 'Normal-1113.png', 'Normal-1137.png', 'Normal-1160.png', 'Normal-1166.png', 'Normal-1168.png', 'Normal-1174.png', 'Normal-12.png', 'Normal-1243.png', 'Normal-1227.png', 'Normal-124.png', 'Normal-1251.png', 'Normal-1235.png', 'Normal-1257.png', 'Normal-1284.png', 'Normal-1291.png', 'Normal-1275.png', 'Normal-126.png', 'Normal-1285.png', 'Normal-132.png', 'Normal-1309.png', 'Normal-1335.png', 'Normal-1331.png', 'Normal-1358.png', 'Normal-1356.png', 'Normal-136.png', 'Normal-1352.png', 'Normal-137.png', 'Normal-1407.png', 'Normal-1408.png', 'Normal-1412.png', 'Normal-1399.png', 'Normal-1430.png', 'Normal-144.png', 'Normal-1426.png', 'Normal-1433.png', 'Normal-1467.png', 'Normal-1466.png', 'Normal-1455.png', 'Normal-1464.png', 'Normal-1459.png', 'Normal-1471.png', 'Normal-1494.png', 'Normal-1507.png', 'Normal-1482.png', 'Normal-1488.png', 'Normal-1493.png', 'Normal-1496.png', 'Normal-1529.png', 'Normal-1512.png', 'Normal-1570.png', 'Normal-1553.png', 'Normal-1604.png', 'Normal-1598.png', 'Normal-1616.png', 'Normal-1635.png', 'Normal-162.png', 'Normal-1642.png', 'Normal-1664.png', 'Normal-1671.png', 'Normal-166.png', 'Normal-1654.png', 'Normal-169.png', 'Normal-1699.png', 'Normal-17.png', 'Normal-1688.png', 'Normal-172.png', 'Normal-1733.png', 'Normal-176.png', 'Normal-1749.png', 'Normal-1796.png', 'Normal-1787.png', 'Normal-1794.png', 'Normal-179.png', 'Normal-1800.png', 'Normal-1812.png', 'Normal-1803.png', 'Normal-1825.png', 'Normal-1827.png', 'Normal-1866.png', 'Normal-187.png', 'Normal-1888.png', 'Normal-1883.png', 'Normal-1897.png', 'Normal-190.png', 'Normal-1925.png', 'Normal-1920.png', 'Normal-1946.png', 'Normal-1927.png', 'Normal-1962.png', 'Normal-1975.png', 'Normal-1960.png', 'Normal-1982.png', 'Normal-1993.png', 'Normal-2008.png', 'Normal-2010.png', 'Normal-2039.png', 'Normal-2044.png', 'Normal-2036.png', 'Normal-2037.png', 'Normal-2060.png', 'Normal-2079.png', 'Normal-2085.png', 'Normal-2097.png', 'Normal-2092.png', 'Normal-2100.png', 'Normal-2119.png', 'Normal-2173.png', 'Normal-2159.png', 'Normal-2164.png', 'Normal-2176.png', 'Normal-217.png', 'Normal-2148.png', 'Normal-2183.png', 'Normal-2207.png', 'Normal-2187.png', 'Normal-2182.png', 'Normal-219.png', 'Normal-2201.png', 'Normal-2237.png', 'Normal-222.png', 'Normal-2213.png', 'Normal-2230.png', 'Normal-2259.png', 'Normal-2276.png', 'Normal-2296.png', 'Normal-2286.png', 'Normal-2280.png', 'Normal-2328.png', 'Normal-233.png', 'Normal-2317.png', 'Normal-2327.png', 'Normal-2340.png', 'Normal-2347.png', 'Normal-2344.png', 'Normal-2357.png', 'Normal-234.png', 'Normal-2379.png', 'Normal-2391.png', 'Normal-2397.png', 'Normal-2427.png', 'Normal-2409.png', 'Normal-2422.png', 'Normal-2413.png', 'Normal-2407.png', 'Normal-2431.png', 'Normal-243.png', 'Normal-244.png', 'Normal-2437.png', 'Normal-2460.png', 'Normal-2468.png', 'Normal-2491.png', 'Normal-2475.png', 'Normal-2517.png', 'Normal-2527.png', 'Normal-252.png', 'Normal-2556.png', 'Normal-2554.png', 'Normal-2549.png', 'Normal-2583.png', 'Normal-2572.png', 'Normal-2587.png', 'Normal-2594.png', 'Normal-2648.png', 'Normal-2658.png', 'Normal-2688.png', 'Normal-2690.png', 'Normal-2675.png', 'Normal-2686.png', 'Normal-2735.png', 'Normal-2728.png', 'Normal-2724.png', 'Normal-2723.png', 'Normal-2760.png', 'Normal-2745.png', 'Normal-2756.png', 'Normal-2762.png', 'Normal-2796.png', 'Normal-2786.png', 'Normal-2776.png', 'Normal-2777.png', 'Normal-2798.png', 'Normal-2824.png', 'Normal-283.png', 'Normal-2834.png', 'Normal-2854.png', 'Normal-2835.png', 'Normal-2885.png', 'Normal-2873.png', 'Normal-2899.png', 'Normal-2904.png', 'Normal-291.png', 'Normal-2897.png', 'Normal-2927.png', 'Normal-295.png', 'Normal-2935.png', 'Normal-2939.png', 'Normal-2975.png', 'Normal-2963.png', 'Normal-2979.png', 'Normal-2965.png', 'Normal-2990.png', 'Normal-2997.png', 'Normal-3048.png', 'Normal-3037.png', 'Normal-3024.png', 'Normal-3042.png', 'Normal-3032.png', 'Normal-3050.png', 'Normal-3073.png', 'Normal-3063.png', 'Normal-3105.png', 'Normal-3089.png', 'Normal-3096.png', 'Normal-3123.png', 'Normal-3141.png', 'Normal-3112.png', 'Normal-3154.png', 'Normal-3173.png', 'Normal-319.png', 'Normal-3179.png', 'Normal-3182.png', 'Normal-3188.png', 'Normal-3240.png', 'Normal-3233.png', 'Normal-3230.png', 'Normal-3208.png', 'Normal-3253.png', 'Normal-3277.png', 'Normal-3247.png', 'Normal-3252.png', 'Normal-3248.png', 'Normal-3261.png', 'Normal-3302.png', 'Normal-3318.png', 'Normal-3317.png', 'Normal-3347.png', 'Normal-3324.png', 'Normal-336.png', 'Normal-3381.png', 'Normal-3369.png', 'Normal-3359.png', 'Normal-3389.png', 'Normal-3375.png', 'Normal-3387.png', 'Normal-3361.png', 'Normal-3395.png', 'Normal-3420.png', 'Normal-343.png', 'Normal-3455.png', 'Normal-3487.png', 'Normal-346.png', 'Normal-3479.png', 'Normal-349.png', 'Normal-3464.png', 'Normal-3485.png', 'Normal-3520.png', 'Normal-3517.png', 'Normal-3500.png', 'Normal-3548.png', 'Normal-3568.png', 'Normal-3538.png', 'Normal-3556.png', 'Normal-3540.png', 'Normal-3577.png', 'Normal-3570.png', 'Normal-3621.png', 'Normal-3610.png', 'Normal-362.png', 'Normal-3643.png', 'Normal-3639.png', 'Normal-366.png', 'Normal-364.png', 'Normal-3661.png', 'Normal-3657.png', 'Normal-3654.png', 'Normal-3644.png', 'Normal-367.png', 'Normal-3694.png', 'Normal-3680.png', 'Normal-3711.png', 'Normal-3745.png', 'Normal-3762.png', 'Normal-3754.png', 'Normal-3751.png', 'Normal-374.png', 'Normal-3757.png', 'Normal-3784.png', 'Normal-3785.png', 'Normal-3787.png', 'Normal-3781.png', 'Normal-380.png', 'Normal-378.png', 'Normal-383.png', 'Normal-3843.png', 'Normal-3820.png', 'Normal-3842.png', 'Normal-3812.png', 'Normal-3840.png', 'Normal-3869.png', 'Normal-3879.png', 'Normal-3863.png', 'Normal-3866.png', 'Normal-387.png', 'Normal-3907.png', 'Normal-3897.png', 'Normal-3887.png', 'Normal-3911.png', 'Normal-3885.png', 'Normal-3886.png', 'Normal-3926.png', 'Normal-3939.png', 'Normal-3984.png', 'Normal-3951.png', 'Normal-3977.png', 'Normal-3994.png', 'Normal-4013.png', 'Normal-4009.png', 'Normal-3998.png', 'Normal-4014.png', 'Normal-400.png', 'Normal-4011.png', 'Normal-4038.png', 'Normal-4067.png', 'Normal-408.png', 'Normal-4083.png', 'Normal-4115.png', 'Normal-4159.png', 'Normal-4149.png', 'Normal-4142.png', 'Normal-4144.png', 'Normal-4134.png', 'Normal-4170.png', 'Normal-4176.png', 'Normal-4180.png', 'Normal-421.png', 'Normal-4215.png', 'Normal-4240.png', 'Normal-4230.png', 'Normal-4243.png', 'Normal-4283.png', 'Normal-427.png', 'Normal-431.png', 'Normal-4307.png', 'Normal-4287.png', 'Normal-4327.png', 'Normal-4320.png', 'Normal-4317.png', 'Normal-4343.png', 'Normal-4323.png', 'Normal-4338.png', 'Normal-4333.png', 'Normal-432.png', 'Normal-4368.png', 'Normal-4352.png', 'Normal-4369.png', 'Normal-4348.png', 'Normal-4365.png', 'Normal-4377.png', 'Normal-4400.png', 'Normal-4382.png', 'Normal-438.png', 'Normal-4392.png', 'Normal-442.png', 'Normal-4422.png', 'Normal-4434.png', 'Normal-4451.png', 'Normal-4508.png', 'Normal-4475.png', 'Normal-454.png', 'Normal-4527.png', 'Normal-4567.png', 'Normal-4574.png', 'Normal-4559.png', 'Normal-461.png', 'Normal-4594.png', 'Normal-4592.png', 'Normal-4582.png', 'Normal-4591.png', 'Normal-4613.png', 'Normal-4630.png', 'Normal-4668.png', 'Normal-4646.png', 'Normal-4661.png', 'Normal-4673.png', 'Normal-4664.png', 'Normal-4650.png', 'Normal-4685.png', 'Normal-4678.png', 'Normal-4690.png', 'Normal-4695.png', 'Normal-4736.png', 'Normal-4719.png', 'Normal-473.png', 'Normal-4724.png', 'Normal-4720.png', 'Normal-4730.png', 'Normal-4801.png', 'Normal-4802.png', 'Normal-4799.png', 'Normal-4779.png', 'Normal-4784.png', 'Normal-4774.png', 'Normal-4787.png', 'Normal-482.png', 'Normal-4810.png', 'Normal-4833.png', 'Normal-4818.png', 'Normal-4848.png', 'Normal-4861.png', 'Normal-4855.png', 'Normal-4866.png', 'Normal-4854.png', 'Normal-4852.png', 'Normal-4858.png', 'Normal-488.png', 'Normal-4893.png', 'Normal-4910.png', 'Normal-4896.png', 'Normal-4937.png', 'Normal-4942.png', 'Normal-4924.png', 'Normal-4954.png', 'Normal-4987.png', 'Normal-4973.png', 'Normal-4992.png', 'Normal-4998.png', 'Normal-5001.png', 'Normal-5060.png', 'Normal-506.png', 'Normal-5051.png', 'Normal-5048.png', 'Normal-507.png', 'Normal-5108.png', 'Normal-5073.png', 'Normal-5122.png', 'Normal-514.png', 'Normal-5119.png', 'Normal-5166.png', 'Normal-5165.png', 'Normal-5162.png', 'Normal-5167.png', 'Normal-5191.png', 'Normal-521.png', 'Normal-5178.png', 'Normal-5185.png', 'Normal-5201.png', 'Normal-5183.png', 'Normal-5238.png', 'Normal-5234.png', 'Normal-5237.png', 'Normal-5251.png', 'Normal-5216.png', 'Normal-5231.png', 'Normal-5242.png', 'Normal-524.png', 'Normal-5255.png', 'Normal-5240.png', 'Normal-5261.png', 'Normal-5282.png', 'Normal-5280.png', 'Normal-5290.png', 'Normal-5305.png', 'Normal-5320.png', 'Normal-5308.png', 'Normal-5315.png', 'Normal-535.png', 'Normal-5352.png', 'Normal-5342.png', 'Normal-5338.png', 'Normal-5335.png', 'Normal-5373.png', 'Normal-5408.png', 'Normal-5428.png', 'Normal-5430.png', 'Normal-5442.png', 'Normal-5488.png', 'Normal-5477.png', 'Normal-5481.png', 'Normal-5463.png', 'Normal-5490.png', 'Normal-5528.png', 'Normal-5497.png', 'Normal-5564.png', 'Normal-5566.png', 'Normal-5565.png', 'Normal-5560.png', 'Normal-5557.png', 'Normal-5589.png', 'Normal-558.png', 'Normal-5599.png', 'Normal-5629.png', 'Normal-5635.png', 'Normal-5625.png', 'Normal-565.png', 'Normal-5669.png', 'Normal-5653.png', 'Normal-564.png', 'Normal-5690.png', 'Normal-5700.png', 'Normal-5696.png', 'Normal-5705.png', 'Normal-5710.png', 'Normal-5707.png', 'Normal-5728.png', 'Normal-5733.png', 'Normal-5769.png', 'Normal-575.png', 'Normal-578.png', 'Normal-5839.png', 'Normal-5832.png', 'Normal-5815.png', 'Normal-5844.png', 'Normal-5863.png', 'Normal-5848.png', 'Normal-5887.png', 'Normal-5900.png', 'Normal-5881.png', 'Normal-5939.png', 'Normal-5965.png', 'Normal-5956.png', 'Normal-5951.png', 'Normal-5980.png', 'Normal-5998.png', 'Normal-6002.png', 'Normal-60.png', 'Normal-6022.png', 'Normal-6040.png', 'Normal-6015.png', 'Normal-6016.png', 'Normal-6082.png', 'Normal-606.png', 'Normal-6079.png', 'Normal-6067.png', 'Normal-6065.png', 'Normal-6080.png', 'Normal-6107.png', 'Normal-6103.png', 'Normal-6112.png', 'Normal-6104.png', 'Normal-6143.png', 'Normal-615.png', 'Normal-6131.png', 'Normal-6146.png', 'Normal-6190.png', 'Normal-6168.png', 'Normal-6175.png', 'Normal-6167.png', 'Normal-6219.png', 'Normal-6207.png', 'Normal-6223.png', 'Normal-6201.png', 'Normal-6196.png', 'Normal-6241.png', 'Normal-6230.png', 'Normal-6232.png', 'Normal-6229.png', 'Normal-6265.png', 'Normal-6284.png', 'Normal-6283.png', 'Normal-628.png', 'Normal-6310.png', 'Normal-631.png', 'Normal-6316.png', 'Normal-6308.png', 'Normal-6333.png', 'Normal-6367.png', 'Normal-6361.png', 'Normal-6371.png', 'Normal-6424.png', 'Normal-6408.png', 'Normal-6413.png', 'Normal-6406.png', 'Normal-6398.png', 'Normal-6428.png', 'Normal-6453.png', 'Normal-6448.png', 'Normal-6473.png', 'Normal-6471.png', 'Normal-6475.png', 'Normal-6486.png', 'Normal-6505.png', 'Normal-6527.png', 'Normal-6526.png', 'Normal-653.png', 'Normal-6538.png', 'Normal-6540.png', 'Normal-6585.png', 'Normal-6576.png', 'Normal-6602.png', 'Normal-6593.png', 'Normal-6568.png', 'Normal-6597.png', 'Normal-6601.png', 'Normal-6638.png', 'Normal-662.png', 'Normal-6609.png', 'Normal-6639.png', 'Normal-6611.png', 'Normal-6668.png', 'Normal-6657.png', 'Normal-6659.png', 'Normal-6707.png', 'Normal-6709.png', 'Normal-668.png', 'Normal-6682.png', 'Normal-6740.png', 'Normal-6718.png', 'Normal-6723.png', 'Normal-6745.png', 'Normal-6751.png', 'Normal-6753.png', 'Normal-6776.png', 'Normal-6807.png', 'Normal-68.png', 'Normal-6797.png', 'Normal-6830.png', 'Normal-6822.png', 'Normal-6823.png', 'Normal-687.png', 'Normal-6874.png', 'Normal-6862.png', 'Normal-688.png', 'Normal-6869.png', 'Normal-6883.png', 'Normal-6877.png', 'Normal-6887.png', 'Normal-6921.png', 'Normal-691.png', 'Normal-690.png', 'Normal-6918.png', 'Normal-6904.png', 'Normal-6955.png', 'Normal-6939.png', 'Normal-6927.png', 'Normal-6961.png', 'Normal-697.png', 'Normal-6981.png', 'Normal-6977.png', 'Normal-6994.png', 'Normal-6992.png', 'Normal-6962.png', 'Normal-6999.png', 'Normal-7013.png', 'Normal-7049.png', 'Normal-7034.png', 'Normal-7058.png', 'Normal-7071.png', 'Normal-7085.png', 'Normal-7088.png', 'Normal-7120.png', 'Normal-7122.png', 'Normal-7154.png', 'Normal-7136.png', 'Normal-7150.png', 'Normal-7180.png', 'Normal-716.png', 'Normal-7178.png', 'Normal-7194.png', 'Normal-7215.png', 'Normal-7208.png', 'Normal-7224.png', 'Normal-7222.png', 'Normal-7220.png', 'Normal-7241.png', 'Normal-7244.png', 'Normal-7272.png', 'Normal-7281.png', 'Normal-7284.png', 'Normal-7256.png', 'Normal-7309.png', 'Normal-729.png', 'Normal-730.png', 'Normal-7302.png', 'Normal-7286.png', 'Normal-7311.png', 'Normal-734.png', 'Normal-7336.png', 'Normal-7348.png', 'Normal-7335.png', 'Normal-7320.png', 'Normal-7330.png', 'Normal-7366.png', 'Normal-7357.png', 'Normal-7381.png', 'Normal-7398.png', 'Normal-7393.png', 'Normal-7455.png', 'Normal-7452.png', 'Normal-7445.png', 'Normal-7424.png', 'Normal-7487.png', 'Normal-7484.png', 'Normal-7463.png', 'Normal-7460.png', 'Normal-7469.png', 'Normal-7491.png', 'Normal-7508.png', 'Normal-7518.png', 'Normal-752.png', 'Normal-7496.png', 'Normal-7550.png', 'Normal-7569.png', 'Normal-7582.png', 'Normal-7578.png', 'Normal-7604.png', 'Normal-7589.png', 'Normal-759.png', 'Normal-7620.png', 'Normal-7592.png', 'Normal-7621.png', 'Normal-7627.png', 'Normal-7632.png', 'Normal-7648.png', 'Normal-7673.png', 'Normal-7679.png', 'Normal-7724.png', 'Normal-7747.png', 'Normal-7780.png', 'Normal-7764.png', 'Normal-7774.png', 'Normal-7773.png', 'Normal-7762.png', 'Normal-782.png', 'Normal-7799.png', 'Normal-7832.png', 'Normal-7833.png', 'Normal-7827.png', 'Normal-7874.png', 'Normal-7877.png', 'Normal-7880.png', 'Normal-7889.png', 'Normal-786.png', 'Normal-7921.png', 'Normal-7914.png', 'Normal-7903.png', 'Normal-7917.png', 'Normal-7913.png', 'Normal-7905.png', 'Normal-7932.png', 'Normal-796.png', 'Normal-7959.png', 'Normal-7961.png', 'Normal-7990.png', 'Normal-7981.png', 'Normal-801.png', 'Normal-8001.png', 'Normal-8053.png', 'Normal-804.png', 'Normal-808.png', 'Normal-8094.png', 'Normal-8066.png', 'Normal-8074.png', 'Normal-8069.png', 'Normal-8080.png', 'Normal-8123.png', 'Normal-8099.png', 'Normal-8117.png', 'Normal-8120.png', 'Normal-8140.png', 'Normal-8155.png', 'Normal-816.png', 'Normal-8144.png', 'Normal-8199.png', 'Normal-8189.png', 'Normal-8170.png', 'Normal-8188.png', 'Normal-8175.png', 'Normal-8201.png', 'Normal-8215.png', 'Normal-8205.png', 'Normal-8221.png', 'Normal-8226.png', 'Normal-8218.png', 'Normal-8214.png', 'Normal-8261.png', 'Normal-8259.png', 'Normal-8249.png', 'Normal-8260.png', 'Normal-8293.png', 'Normal-8268.png', 'Normal-8298.png', 'Normal-8310.png', 'Normal-8308.png', 'Normal-8319.png', 'Normal-8340.png', 'Normal-8368.png', 'Normal-8362.png', 'Normal-8388.png', 'Normal-8374.png', 'Normal-8377.png', 'Normal-839.png', 'Normal-8389.png', 'Normal-8403.png', 'Normal-8407.png', 'Normal-8405.png', 'Normal-845.png', 'Normal-8453.png', 'Normal-8490.png', 'Normal-849.png', 'Normal-8488.png', 'Normal-8509.png', 'Normal-8515.png', 'Normal-8510.png', 'Normal-8533.png', 'Normal-8540.png', 'Normal-8534.png', 'Normal-8557.png', 'Normal-8585.png', 'Normal-8572.png', 'Normal-8573.png', 'Normal-8589.png', 'Normal-8566.png', 'Normal-8615.png', 'Normal-8616.png', 'Normal-8622.png', 'Normal-8623.png', 'Normal-8654.png', 'Normal-8647.png', 'Normal-8643.png', 'Normal-8636.png', 'Normal-8649.png', 'Normal-8659.png', 'Normal-8673.png', 'Normal-8678.png', 'Normal-8695.png', 'Normal-8691.png', 'Normal-8731.png', 'Normal-8735.png', 'Normal-8765.png', 'Normal-8773.png', 'Normal-8767.png', 'Normal-8781.png', 'Normal-8797.png', 'Normal-8795.png', 'Normal-8835.png', 'Normal-8817.png', 'Normal-8810.png', 'Normal-8823.png', 'Normal-8862.png', 'Normal-8868.png', 'Normal-8895.png', 'Normal-8893.png', 'Normal-8888.png', 'Normal-8900.png', 'Normal-8923.png', 'Normal-8905.png', 'Normal-8910.png', 'Normal-8937.png', 'Normal-894.png', 'Normal-8945.png', 'Normal-8951.png', 'Normal-8939.png', 'Normal-8974.png', 'Normal-8991.png', 'Normal-8989.png', 'Normal-899.png', 'Normal-9033.png', 'Normal-9011.png', 'Normal-9014.png', 'Normal-9023.png', 'Normal-9001.png', 'Normal-9008.png', 'Normal-9019.png', 'Normal-9052.png', 'Normal-9049.png', 'Normal-9082.png', 'Normal-9085.png', 'Normal-910.png', 'Normal-9101.png', 'Normal-9089.png', 'Normal-9081.png', 'Normal-913.png', 'Normal-912.png', 'Normal-9132.png', 'Normal-9136.png', 'Normal-9133.png', 'Normal-9126.png', 'Normal-9108.png', 'Normal-9164.png', 'Normal-9143.png', 'Normal-9162.png', 'Normal-9194.png', 'Normal-922.png', 'Normal-9215.png', 'Normal-9231.png', 'Normal-9212.png', 'Normal-9219.png', 'Normal-9214.png', 'Normal-9240.png', 'Normal-9259.png', 'Normal-9246.png', 'Normal-9276.png', 'Normal-9285.png', 'Normal-9302.png', 'Normal-9286.png', 'Normal-9284.png', 'Normal-9270.png', 'Normal-9288.png', 'Normal-933.png', 'Normal-9333.png', 'Normal-9316.png', 'Normal-9350.png', 'Normal-9341.png', 'Normal-940.png', 'Normal-939.png', 'Normal-9373.png', 'Normal-9420.png', 'Normal-9406.png', 'Normal-9409.png', 'Normal-9408.png', 'Normal-946.png', 'Normal-9467.png', 'Normal-9460.png', 'Normal-9465.png', 'Normal-9458.png', 'Normal-9459.png', 'Normal-9449.png', 'Normal-9482.png', 'Normal-9491.png', 'Normal-9492.png', 'Normal-9517.png', 'Normal-9516.png', 'Normal-9574.png', 'Normal-955.png', 'Normal-9551.png', 'Normal-9550.png', 'Normal-9564.png', 'Normal-9569.png', 'Normal-9541.png', 'Normal-9595.png', 'Normal-9603.png', 'Normal-9608.png', 'Normal-960.png', 'Normal-9582.png', 'Normal-9618.png', 'Normal-9621.png', 'Normal-9635.png', 'Normal-9626.png', 'Normal-9615.png', 'Normal-9660.png', 'Normal-9668.png', 'Normal-9676.png', 'Normal-9648.png', 'Normal-9678.png', 'Normal-9723.png', 'Normal-9742.png', 'Normal-9733.png', 'Normal-9750.png', 'Normal-9763.png', 'Normal-9772.png', 'Normal-9773.png', 'Normal-9758.png', 'Normal-9774.png', 'Normal-9793.png', 'Normal-9800.png', 'Normal-9782.png', 'Normal-9785.png', 'Normal-9808.png', 'Normal-9806.png', 'Normal-9801.png', 'Normal-9783.png', 'Normal-9829.png', 'Normal-9815.png', 'Normal-9857.png', 'Normal-9848.png', 'Normal-9849.png', 'Normal-9872.png', 'Normal-9883.png', 'Normal-9874.png', 'Normal-9932.png', 'Normal-9956.png', 'Normal-9953.png', 'Normal-9946.png', 'Normal-9966.png', 'Normal-9976.png', 'Normal-9979.png', 'Normal-9967.png', 'Normal-9998.png', 'Normal-1003.png', 'Normal-10014.png', 'Normal-10006.png', 'Normal-10029.png', 'Normal-1001.png', 'Normal-10004.png', 'Normal-10015.png', 'Normal-10032.png', 'Normal-1005.png', 'Normal-10054.png', 'Normal-10066.png', 'Normal-10094.png', 'Normal-10093.png', 'Normal-10095.png', 'Normal-10084.png', 'Normal-10080.png', 'Normal-10115.png', 'Normal-10127.png', 'Normal-10139.png', 'Normal-10119.png']\n"
          ]
        }
      ]
    },
    {
      "cell_type": "code",
      "source": [
        "!pip install torch torchvision"
      ],
      "metadata": {
        "colab": {
          "base_uri": "https://localhost:8080/"
        },
        "collapsed": true,
        "id": "YARCzstwi8NT",
        "outputId": "900c98eb-db9b-4cb5-cdcc-2abf18eda912"
      },
      "execution_count": null,
      "outputs": [
        {
          "output_type": "stream",
          "name": "stdout",
          "text": [
            "Requirement already satisfied: torch in /usr/local/lib/python3.10/dist-packages (2.5.1+cu121)\n",
            "Requirement already satisfied: torchvision in /usr/local/lib/python3.10/dist-packages (0.20.1+cu121)\n",
            "Requirement already satisfied: filelock in /usr/local/lib/python3.10/dist-packages (from torch) (3.16.1)\n",
            "Requirement already satisfied: typing-extensions>=4.8.0 in /usr/local/lib/python3.10/dist-packages (from torch) (4.12.2)\n",
            "Requirement already satisfied: networkx in /usr/local/lib/python3.10/dist-packages (from torch) (3.4.2)\n",
            "Requirement already satisfied: jinja2 in /usr/local/lib/python3.10/dist-packages (from torch) (3.1.4)\n",
            "Requirement already satisfied: fsspec in /usr/local/lib/python3.10/dist-packages (from torch) (2024.10.0)\n",
            "Requirement already satisfied: sympy==1.13.1 in /usr/local/lib/python3.10/dist-packages (from torch) (1.13.1)\n",
            "Requirement already satisfied: mpmath<1.4,>=1.1.0 in /usr/local/lib/python3.10/dist-packages (from sympy==1.13.1->torch) (1.3.0)\n",
            "Requirement already satisfied: numpy in /usr/local/lib/python3.10/dist-packages (from torchvision) (1.26.4)\n",
            "Requirement already satisfied: pillow!=8.3.*,>=5.3.0 in /usr/local/lib/python3.10/dist-packages (from torchvision) (11.0.0)\n",
            "Requirement already satisfied: MarkupSafe>=2.0 in /usr/local/lib/python3.10/dist-packages (from jinja2->torch) (3.0.2)\n"
          ]
        }
      ]
    },
    {
      "cell_type": "code",
      "source": [
        "import torch\n",
        "import torch.nn as nn\n",
        "import torch.optim as optim\n",
        "from torch.utils.data import DataLoader, Dataset\n",
        "from torchvision import transforms, models\n",
        "from torchvision.datasets import ImageFolder\n",
        "from torchvision import datasets\n",
        "import os\n",
        "import numpy as np\n",
        "import matplotlib.pyplot as plt"
      ],
      "metadata": {
        "id": "XJkBbnvHkwMW"
      },
      "execution_count": null,
      "outputs": []
    },
    {
      "cell_type": "code",
      "source": [
        "# Define the transformations for training and testing\n",
        "train_transform = transforms.Compose([\n",
        "    transforms.Resize((224, 224)),             # Resize images to 224x224\n",
        "    transforms.RandomHorizontalFlip(),         # Randomly flip images\n",
        "    transforms.ToTensor(),                     # Convert images to tensor\n",
        "    transforms.Normalize(mean=[0.485, 0.456, 0.406], std=[0.229, 0.224, 0.225])  # Normalize using ImageNet mean and std\n",
        "])\n",
        "\n",
        "test_transform = transforms.Compose([\n",
        "    transforms.Resize((224, 224)),             # Resize images to 224x224\n",
        "    transforms.ToTensor(),                     # Convert images to tensor\n",
        "    transforms.Normalize(mean=[0.485, 0.456, 0.406], std=[0.229, 0.224, 0.225])  # Normalize using ImageNet mean and std\n",
        "])\n"
      ],
      "metadata": {
        "id": "B5bobmCxlCDA"
      },
      "execution_count": null,
      "outputs": []
    },
    {
      "cell_type": "code",
      "source": [
        "import os\n",
        "from torch.utils.data import Dataset\n",
        "from PIL import Image\n",
        "from torchvision import transforms\n",
        "\n",
        "# Define a custom dataset class\n",
        "class CustomCovidNormalDataset(Dataset):\n",
        "    def __init__(self, normal_dir, covid_dir, transform=None):\n",
        "        self.normal_images = [(os.path.join(normal_dir, f), 0) for f in os.listdir(normal_dir)]  # Label 0 for Normal\n",
        "        self.covid_images = [(os.path.join(covid_dir, f), 1) for f in os.listdir(covid_dir)]  # Label 1 for Covid\n",
        "        self.images = self.normal_images + self.covid_images  # Combine both\n",
        "        self.transform = transform\n",
        "\n",
        "    def __len__(self):\n",
        "        return len(self.images)\n",
        "\n",
        "    def __getitem__(self, idx):\n",
        "        img_path, label = self.images[idx]\n",
        "        image = Image.open(img_path).convert(\"RGB\")\n",
        "\n",
        "        if self.transform:\n",
        "            image = self.transform(image)\n",
        "\n",
        "        return image, label\n",
        "\n",
        "# Define directories\n",
        "normal_train_dir = '/content/drive/MyDrive/Covid_xrays_classifier/xray_covid19_dataset/normal_dataset/normal train/'\n",
        "covid_train_dir = '/content/drive/MyDrive/Covid_xrays_classifier/xray_covid19_dataset/Covid_dataset/Covid train/'\n",
        "\n",
        "# Define transformations for data augmentation\n",
        "transform = transforms.Compose([\n",
        "    transforms.Resize((224, 224)),  # Resize images to 224x224 (for DenseNet)\n",
        "    transforms.ToTensor(),          # Convert images to PyTorch tensors\n",
        "    transforms.Normalize(mean=[0.485, 0.456, 0.406], std=[0.229, 0.224, 0.225])  # Standardize based on ImageNet stats\n",
        "])\n",
        "\n",
        "# Load the custom dataset\n",
        "train_dataset = CustomCovidNormalDataset(normal_train_dir, covid_train_dir, transform=transform)\n",
        "\n",
        "# Create DataLoader for training\n",
        "train_loader = DataLoader(train_dataset, batch_size=32, shuffle=True)\n",
        "\n",
        "# Verify data loading\n",
        "print(f'Training Data: {len(train_loader.dataset)} images')\n"
      ],
      "metadata": {
        "colab": {
          "base_uri": "https://localhost:8080/"
        },
        "id": "Q24jb8GsquuU",
        "outputId": "86196bab-58f2-4ee0-f797-60fefdfaea63"
      },
      "execution_count": null,
      "outputs": [
        {
          "output_type": "stream",
          "name": "stdout",
          "text": [
            "Training Data: 11065 images\n"
          ]
        }
      ]
    },
    {
      "cell_type": "code",
      "source": [
        "import torch\n",
        "import torch.nn as nn\n",
        "import torch.optim as optim\n",
        "from torchvision import models\n",
        "\n",
        "# Load pre-trained DenseNet121 model\n",
        "model = models.densenet121(pretrained=True)\n",
        "\n",
        "# Modify the final layer to output 2 classes (Covid, Normal)\n",
        "model.classifier = nn.Linear(model.classifier.in_features, 2)\n",
        "\n",
        "# Move model to GPU (if available)\n",
        "device = torch.device(\"cuda\" if torch.cuda.is_available() else \"cpu\")\n",
        "model = model.to(device)\n",
        "\n",
        "# Print the model summary (optional)\n",
        "print(model)\n"
      ],
      "metadata": {
        "colab": {
          "base_uri": "https://localhost:8080/"
        },
        "collapsed": true,
        "id": "dw-n8iix5Y-I",
        "outputId": "519e3f23-73fe-402d-9a3a-a91ef8ca5dc9"
      },
      "execution_count": null,
      "outputs": [
        {
          "output_type": "stream",
          "name": "stderr",
          "text": [
            "/usr/local/lib/python3.10/dist-packages/torchvision/models/_utils.py:208: UserWarning: The parameter 'pretrained' is deprecated since 0.13 and may be removed in the future, please use 'weights' instead.\n",
            "  warnings.warn(\n",
            "/usr/local/lib/python3.10/dist-packages/torchvision/models/_utils.py:223: UserWarning: Arguments other than a weight enum or `None` for 'weights' are deprecated since 0.13 and may be removed in the future. The current behavior is equivalent to passing `weights=DenseNet121_Weights.IMAGENET1K_V1`. You can also use `weights=DenseNet121_Weights.DEFAULT` to get the most up-to-date weights.\n",
            "  warnings.warn(msg)\n"
          ]
        },
        {
          "output_type": "stream",
          "name": "stdout",
          "text": [
            "DenseNet(\n",
            "  (features): Sequential(\n",
            "    (conv0): Conv2d(3, 64, kernel_size=(7, 7), stride=(2, 2), padding=(3, 3), bias=False)\n",
            "    (norm0): BatchNorm2d(64, eps=1e-05, momentum=0.1, affine=True, track_running_stats=True)\n",
            "    (relu0): ReLU(inplace=True)\n",
            "    (pool0): MaxPool2d(kernel_size=3, stride=2, padding=1, dilation=1, ceil_mode=False)\n",
            "    (denseblock1): _DenseBlock(\n",
            "      (denselayer1): _DenseLayer(\n",
            "        (norm1): BatchNorm2d(64, eps=1e-05, momentum=0.1, affine=True, track_running_stats=True)\n",
            "        (relu1): ReLU(inplace=True)\n",
            "        (conv1): Conv2d(64, 128, kernel_size=(1, 1), stride=(1, 1), bias=False)\n",
            "        (norm2): BatchNorm2d(128, eps=1e-05, momentum=0.1, affine=True, track_running_stats=True)\n",
            "        (relu2): ReLU(inplace=True)\n",
            "        (conv2): Conv2d(128, 32, kernel_size=(3, 3), stride=(1, 1), padding=(1, 1), bias=False)\n",
            "      )\n",
            "      (denselayer2): _DenseLayer(\n",
            "        (norm1): BatchNorm2d(96, eps=1e-05, momentum=0.1, affine=True, track_running_stats=True)\n",
            "        (relu1): ReLU(inplace=True)\n",
            "        (conv1): Conv2d(96, 128, kernel_size=(1, 1), stride=(1, 1), bias=False)\n",
            "        (norm2): BatchNorm2d(128, eps=1e-05, momentum=0.1, affine=True, track_running_stats=True)\n",
            "        (relu2): ReLU(inplace=True)\n",
            "        (conv2): Conv2d(128, 32, kernel_size=(3, 3), stride=(1, 1), padding=(1, 1), bias=False)\n",
            "      )\n",
            "      (denselayer3): _DenseLayer(\n",
            "        (norm1): BatchNorm2d(128, eps=1e-05, momentum=0.1, affine=True, track_running_stats=True)\n",
            "        (relu1): ReLU(inplace=True)\n",
            "        (conv1): Conv2d(128, 128, kernel_size=(1, 1), stride=(1, 1), bias=False)\n",
            "        (norm2): BatchNorm2d(128, eps=1e-05, momentum=0.1, affine=True, track_running_stats=True)\n",
            "        (relu2): ReLU(inplace=True)\n",
            "        (conv2): Conv2d(128, 32, kernel_size=(3, 3), stride=(1, 1), padding=(1, 1), bias=False)\n",
            "      )\n",
            "      (denselayer4): _DenseLayer(\n",
            "        (norm1): BatchNorm2d(160, eps=1e-05, momentum=0.1, affine=True, track_running_stats=True)\n",
            "        (relu1): ReLU(inplace=True)\n",
            "        (conv1): Conv2d(160, 128, kernel_size=(1, 1), stride=(1, 1), bias=False)\n",
            "        (norm2): BatchNorm2d(128, eps=1e-05, momentum=0.1, affine=True, track_running_stats=True)\n",
            "        (relu2): ReLU(inplace=True)\n",
            "        (conv2): Conv2d(128, 32, kernel_size=(3, 3), stride=(1, 1), padding=(1, 1), bias=False)\n",
            "      )\n",
            "      (denselayer5): _DenseLayer(\n",
            "        (norm1): BatchNorm2d(192, eps=1e-05, momentum=0.1, affine=True, track_running_stats=True)\n",
            "        (relu1): ReLU(inplace=True)\n",
            "        (conv1): Conv2d(192, 128, kernel_size=(1, 1), stride=(1, 1), bias=False)\n",
            "        (norm2): BatchNorm2d(128, eps=1e-05, momentum=0.1, affine=True, track_running_stats=True)\n",
            "        (relu2): ReLU(inplace=True)\n",
            "        (conv2): Conv2d(128, 32, kernel_size=(3, 3), stride=(1, 1), padding=(1, 1), bias=False)\n",
            "      )\n",
            "      (denselayer6): _DenseLayer(\n",
            "        (norm1): BatchNorm2d(224, eps=1e-05, momentum=0.1, affine=True, track_running_stats=True)\n",
            "        (relu1): ReLU(inplace=True)\n",
            "        (conv1): Conv2d(224, 128, kernel_size=(1, 1), stride=(1, 1), bias=False)\n",
            "        (norm2): BatchNorm2d(128, eps=1e-05, momentum=0.1, affine=True, track_running_stats=True)\n",
            "        (relu2): ReLU(inplace=True)\n",
            "        (conv2): Conv2d(128, 32, kernel_size=(3, 3), stride=(1, 1), padding=(1, 1), bias=False)\n",
            "      )\n",
            "    )\n",
            "    (transition1): _Transition(\n",
            "      (norm): BatchNorm2d(256, eps=1e-05, momentum=0.1, affine=True, track_running_stats=True)\n",
            "      (relu): ReLU(inplace=True)\n",
            "      (conv): Conv2d(256, 128, kernel_size=(1, 1), stride=(1, 1), bias=False)\n",
            "      (pool): AvgPool2d(kernel_size=2, stride=2, padding=0)\n",
            "    )\n",
            "    (denseblock2): _DenseBlock(\n",
            "      (denselayer1): _DenseLayer(\n",
            "        (norm1): BatchNorm2d(128, eps=1e-05, momentum=0.1, affine=True, track_running_stats=True)\n",
            "        (relu1): ReLU(inplace=True)\n",
            "        (conv1): Conv2d(128, 128, kernel_size=(1, 1), stride=(1, 1), bias=False)\n",
            "        (norm2): BatchNorm2d(128, eps=1e-05, momentum=0.1, affine=True, track_running_stats=True)\n",
            "        (relu2): ReLU(inplace=True)\n",
            "        (conv2): Conv2d(128, 32, kernel_size=(3, 3), stride=(1, 1), padding=(1, 1), bias=False)\n",
            "      )\n",
            "      (denselayer2): _DenseLayer(\n",
            "        (norm1): BatchNorm2d(160, eps=1e-05, momentum=0.1, affine=True, track_running_stats=True)\n",
            "        (relu1): ReLU(inplace=True)\n",
            "        (conv1): Conv2d(160, 128, kernel_size=(1, 1), stride=(1, 1), bias=False)\n",
            "        (norm2): BatchNorm2d(128, eps=1e-05, momentum=0.1, affine=True, track_running_stats=True)\n",
            "        (relu2): ReLU(inplace=True)\n",
            "        (conv2): Conv2d(128, 32, kernel_size=(3, 3), stride=(1, 1), padding=(1, 1), bias=False)\n",
            "      )\n",
            "      (denselayer3): _DenseLayer(\n",
            "        (norm1): BatchNorm2d(192, eps=1e-05, momentum=0.1, affine=True, track_running_stats=True)\n",
            "        (relu1): ReLU(inplace=True)\n",
            "        (conv1): Conv2d(192, 128, kernel_size=(1, 1), stride=(1, 1), bias=False)\n",
            "        (norm2): BatchNorm2d(128, eps=1e-05, momentum=0.1, affine=True, track_running_stats=True)\n",
            "        (relu2): ReLU(inplace=True)\n",
            "        (conv2): Conv2d(128, 32, kernel_size=(3, 3), stride=(1, 1), padding=(1, 1), bias=False)\n",
            "      )\n",
            "      (denselayer4): _DenseLayer(\n",
            "        (norm1): BatchNorm2d(224, eps=1e-05, momentum=0.1, affine=True, track_running_stats=True)\n",
            "        (relu1): ReLU(inplace=True)\n",
            "        (conv1): Conv2d(224, 128, kernel_size=(1, 1), stride=(1, 1), bias=False)\n",
            "        (norm2): BatchNorm2d(128, eps=1e-05, momentum=0.1, affine=True, track_running_stats=True)\n",
            "        (relu2): ReLU(inplace=True)\n",
            "        (conv2): Conv2d(128, 32, kernel_size=(3, 3), stride=(1, 1), padding=(1, 1), bias=False)\n",
            "      )\n",
            "      (denselayer5): _DenseLayer(\n",
            "        (norm1): BatchNorm2d(256, eps=1e-05, momentum=0.1, affine=True, track_running_stats=True)\n",
            "        (relu1): ReLU(inplace=True)\n",
            "        (conv1): Conv2d(256, 128, kernel_size=(1, 1), stride=(1, 1), bias=False)\n",
            "        (norm2): BatchNorm2d(128, eps=1e-05, momentum=0.1, affine=True, track_running_stats=True)\n",
            "        (relu2): ReLU(inplace=True)\n",
            "        (conv2): Conv2d(128, 32, kernel_size=(3, 3), stride=(1, 1), padding=(1, 1), bias=False)\n",
            "      )\n",
            "      (denselayer6): _DenseLayer(\n",
            "        (norm1): BatchNorm2d(288, eps=1e-05, momentum=0.1, affine=True, track_running_stats=True)\n",
            "        (relu1): ReLU(inplace=True)\n",
            "        (conv1): Conv2d(288, 128, kernel_size=(1, 1), stride=(1, 1), bias=False)\n",
            "        (norm2): BatchNorm2d(128, eps=1e-05, momentum=0.1, affine=True, track_running_stats=True)\n",
            "        (relu2): ReLU(inplace=True)\n",
            "        (conv2): Conv2d(128, 32, kernel_size=(3, 3), stride=(1, 1), padding=(1, 1), bias=False)\n",
            "      )\n",
            "      (denselayer7): _DenseLayer(\n",
            "        (norm1): BatchNorm2d(320, eps=1e-05, momentum=0.1, affine=True, track_running_stats=True)\n",
            "        (relu1): ReLU(inplace=True)\n",
            "        (conv1): Conv2d(320, 128, kernel_size=(1, 1), stride=(1, 1), bias=False)\n",
            "        (norm2): BatchNorm2d(128, eps=1e-05, momentum=0.1, affine=True, track_running_stats=True)\n",
            "        (relu2): ReLU(inplace=True)\n",
            "        (conv2): Conv2d(128, 32, kernel_size=(3, 3), stride=(1, 1), padding=(1, 1), bias=False)\n",
            "      )\n",
            "      (denselayer8): _DenseLayer(\n",
            "        (norm1): BatchNorm2d(352, eps=1e-05, momentum=0.1, affine=True, track_running_stats=True)\n",
            "        (relu1): ReLU(inplace=True)\n",
            "        (conv1): Conv2d(352, 128, kernel_size=(1, 1), stride=(1, 1), bias=False)\n",
            "        (norm2): BatchNorm2d(128, eps=1e-05, momentum=0.1, affine=True, track_running_stats=True)\n",
            "        (relu2): ReLU(inplace=True)\n",
            "        (conv2): Conv2d(128, 32, kernel_size=(3, 3), stride=(1, 1), padding=(1, 1), bias=False)\n",
            "      )\n",
            "      (denselayer9): _DenseLayer(\n",
            "        (norm1): BatchNorm2d(384, eps=1e-05, momentum=0.1, affine=True, track_running_stats=True)\n",
            "        (relu1): ReLU(inplace=True)\n",
            "        (conv1): Conv2d(384, 128, kernel_size=(1, 1), stride=(1, 1), bias=False)\n",
            "        (norm2): BatchNorm2d(128, eps=1e-05, momentum=0.1, affine=True, track_running_stats=True)\n",
            "        (relu2): ReLU(inplace=True)\n",
            "        (conv2): Conv2d(128, 32, kernel_size=(3, 3), stride=(1, 1), padding=(1, 1), bias=False)\n",
            "      )\n",
            "      (denselayer10): _DenseLayer(\n",
            "        (norm1): BatchNorm2d(416, eps=1e-05, momentum=0.1, affine=True, track_running_stats=True)\n",
            "        (relu1): ReLU(inplace=True)\n",
            "        (conv1): Conv2d(416, 128, kernel_size=(1, 1), stride=(1, 1), bias=False)\n",
            "        (norm2): BatchNorm2d(128, eps=1e-05, momentum=0.1, affine=True, track_running_stats=True)\n",
            "        (relu2): ReLU(inplace=True)\n",
            "        (conv2): Conv2d(128, 32, kernel_size=(3, 3), stride=(1, 1), padding=(1, 1), bias=False)\n",
            "      )\n",
            "      (denselayer11): _DenseLayer(\n",
            "        (norm1): BatchNorm2d(448, eps=1e-05, momentum=0.1, affine=True, track_running_stats=True)\n",
            "        (relu1): ReLU(inplace=True)\n",
            "        (conv1): Conv2d(448, 128, kernel_size=(1, 1), stride=(1, 1), bias=False)\n",
            "        (norm2): BatchNorm2d(128, eps=1e-05, momentum=0.1, affine=True, track_running_stats=True)\n",
            "        (relu2): ReLU(inplace=True)\n",
            "        (conv2): Conv2d(128, 32, kernel_size=(3, 3), stride=(1, 1), padding=(1, 1), bias=False)\n",
            "      )\n",
            "      (denselayer12): _DenseLayer(\n",
            "        (norm1): BatchNorm2d(480, eps=1e-05, momentum=0.1, affine=True, track_running_stats=True)\n",
            "        (relu1): ReLU(inplace=True)\n",
            "        (conv1): Conv2d(480, 128, kernel_size=(1, 1), stride=(1, 1), bias=False)\n",
            "        (norm2): BatchNorm2d(128, eps=1e-05, momentum=0.1, affine=True, track_running_stats=True)\n",
            "        (relu2): ReLU(inplace=True)\n",
            "        (conv2): Conv2d(128, 32, kernel_size=(3, 3), stride=(1, 1), padding=(1, 1), bias=False)\n",
            "      )\n",
            "    )\n",
            "    (transition2): _Transition(\n",
            "      (norm): BatchNorm2d(512, eps=1e-05, momentum=0.1, affine=True, track_running_stats=True)\n",
            "      (relu): ReLU(inplace=True)\n",
            "      (conv): Conv2d(512, 256, kernel_size=(1, 1), stride=(1, 1), bias=False)\n",
            "      (pool): AvgPool2d(kernel_size=2, stride=2, padding=0)\n",
            "    )\n",
            "    (denseblock3): _DenseBlock(\n",
            "      (denselayer1): _DenseLayer(\n",
            "        (norm1): BatchNorm2d(256, eps=1e-05, momentum=0.1, affine=True, track_running_stats=True)\n",
            "        (relu1): ReLU(inplace=True)\n",
            "        (conv1): Conv2d(256, 128, kernel_size=(1, 1), stride=(1, 1), bias=False)\n",
            "        (norm2): BatchNorm2d(128, eps=1e-05, momentum=0.1, affine=True, track_running_stats=True)\n",
            "        (relu2): ReLU(inplace=True)\n",
            "        (conv2): Conv2d(128, 32, kernel_size=(3, 3), stride=(1, 1), padding=(1, 1), bias=False)\n",
            "      )\n",
            "      (denselayer2): _DenseLayer(\n",
            "        (norm1): BatchNorm2d(288, eps=1e-05, momentum=0.1, affine=True, track_running_stats=True)\n",
            "        (relu1): ReLU(inplace=True)\n",
            "        (conv1): Conv2d(288, 128, kernel_size=(1, 1), stride=(1, 1), bias=False)\n",
            "        (norm2): BatchNorm2d(128, eps=1e-05, momentum=0.1, affine=True, track_running_stats=True)\n",
            "        (relu2): ReLU(inplace=True)\n",
            "        (conv2): Conv2d(128, 32, kernel_size=(3, 3), stride=(1, 1), padding=(1, 1), bias=False)\n",
            "      )\n",
            "      (denselayer3): _DenseLayer(\n",
            "        (norm1): BatchNorm2d(320, eps=1e-05, momentum=0.1, affine=True, track_running_stats=True)\n",
            "        (relu1): ReLU(inplace=True)\n",
            "        (conv1): Conv2d(320, 128, kernel_size=(1, 1), stride=(1, 1), bias=False)\n",
            "        (norm2): BatchNorm2d(128, eps=1e-05, momentum=0.1, affine=True, track_running_stats=True)\n",
            "        (relu2): ReLU(inplace=True)\n",
            "        (conv2): Conv2d(128, 32, kernel_size=(3, 3), stride=(1, 1), padding=(1, 1), bias=False)\n",
            "      )\n",
            "      (denselayer4): _DenseLayer(\n",
            "        (norm1): BatchNorm2d(352, eps=1e-05, momentum=0.1, affine=True, track_running_stats=True)\n",
            "        (relu1): ReLU(inplace=True)\n",
            "        (conv1): Conv2d(352, 128, kernel_size=(1, 1), stride=(1, 1), bias=False)\n",
            "        (norm2): BatchNorm2d(128, eps=1e-05, momentum=0.1, affine=True, track_running_stats=True)\n",
            "        (relu2): ReLU(inplace=True)\n",
            "        (conv2): Conv2d(128, 32, kernel_size=(3, 3), stride=(1, 1), padding=(1, 1), bias=False)\n",
            "      )\n",
            "      (denselayer5): _DenseLayer(\n",
            "        (norm1): BatchNorm2d(384, eps=1e-05, momentum=0.1, affine=True, track_running_stats=True)\n",
            "        (relu1): ReLU(inplace=True)\n",
            "        (conv1): Conv2d(384, 128, kernel_size=(1, 1), stride=(1, 1), bias=False)\n",
            "        (norm2): BatchNorm2d(128, eps=1e-05, momentum=0.1, affine=True, track_running_stats=True)\n",
            "        (relu2): ReLU(inplace=True)\n",
            "        (conv2): Conv2d(128, 32, kernel_size=(3, 3), stride=(1, 1), padding=(1, 1), bias=False)\n",
            "      )\n",
            "      (denselayer6): _DenseLayer(\n",
            "        (norm1): BatchNorm2d(416, eps=1e-05, momentum=0.1, affine=True, track_running_stats=True)\n",
            "        (relu1): ReLU(inplace=True)\n",
            "        (conv1): Conv2d(416, 128, kernel_size=(1, 1), stride=(1, 1), bias=False)\n",
            "        (norm2): BatchNorm2d(128, eps=1e-05, momentum=0.1, affine=True, track_running_stats=True)\n",
            "        (relu2): ReLU(inplace=True)\n",
            "        (conv2): Conv2d(128, 32, kernel_size=(3, 3), stride=(1, 1), padding=(1, 1), bias=False)\n",
            "      )\n",
            "      (denselayer7): _DenseLayer(\n",
            "        (norm1): BatchNorm2d(448, eps=1e-05, momentum=0.1, affine=True, track_running_stats=True)\n",
            "        (relu1): ReLU(inplace=True)\n",
            "        (conv1): Conv2d(448, 128, kernel_size=(1, 1), stride=(1, 1), bias=False)\n",
            "        (norm2): BatchNorm2d(128, eps=1e-05, momentum=0.1, affine=True, track_running_stats=True)\n",
            "        (relu2): ReLU(inplace=True)\n",
            "        (conv2): Conv2d(128, 32, kernel_size=(3, 3), stride=(1, 1), padding=(1, 1), bias=False)\n",
            "      )\n",
            "      (denselayer8): _DenseLayer(\n",
            "        (norm1): BatchNorm2d(480, eps=1e-05, momentum=0.1, affine=True, track_running_stats=True)\n",
            "        (relu1): ReLU(inplace=True)\n",
            "        (conv1): Conv2d(480, 128, kernel_size=(1, 1), stride=(1, 1), bias=False)\n",
            "        (norm2): BatchNorm2d(128, eps=1e-05, momentum=0.1, affine=True, track_running_stats=True)\n",
            "        (relu2): ReLU(inplace=True)\n",
            "        (conv2): Conv2d(128, 32, kernel_size=(3, 3), stride=(1, 1), padding=(1, 1), bias=False)\n",
            "      )\n",
            "      (denselayer9): _DenseLayer(\n",
            "        (norm1): BatchNorm2d(512, eps=1e-05, momentum=0.1, affine=True, track_running_stats=True)\n",
            "        (relu1): ReLU(inplace=True)\n",
            "        (conv1): Conv2d(512, 128, kernel_size=(1, 1), stride=(1, 1), bias=False)\n",
            "        (norm2): BatchNorm2d(128, eps=1e-05, momentum=0.1, affine=True, track_running_stats=True)\n",
            "        (relu2): ReLU(inplace=True)\n",
            "        (conv2): Conv2d(128, 32, kernel_size=(3, 3), stride=(1, 1), padding=(1, 1), bias=False)\n",
            "      )\n",
            "      (denselayer10): _DenseLayer(\n",
            "        (norm1): BatchNorm2d(544, eps=1e-05, momentum=0.1, affine=True, track_running_stats=True)\n",
            "        (relu1): ReLU(inplace=True)\n",
            "        (conv1): Conv2d(544, 128, kernel_size=(1, 1), stride=(1, 1), bias=False)\n",
            "        (norm2): BatchNorm2d(128, eps=1e-05, momentum=0.1, affine=True, track_running_stats=True)\n",
            "        (relu2): ReLU(inplace=True)\n",
            "        (conv2): Conv2d(128, 32, kernel_size=(3, 3), stride=(1, 1), padding=(1, 1), bias=False)\n",
            "      )\n",
            "      (denselayer11): _DenseLayer(\n",
            "        (norm1): BatchNorm2d(576, eps=1e-05, momentum=0.1, affine=True, track_running_stats=True)\n",
            "        (relu1): ReLU(inplace=True)\n",
            "        (conv1): Conv2d(576, 128, kernel_size=(1, 1), stride=(1, 1), bias=False)\n",
            "        (norm2): BatchNorm2d(128, eps=1e-05, momentum=0.1, affine=True, track_running_stats=True)\n",
            "        (relu2): ReLU(inplace=True)\n",
            "        (conv2): Conv2d(128, 32, kernel_size=(3, 3), stride=(1, 1), padding=(1, 1), bias=False)\n",
            "      )\n",
            "      (denselayer12): _DenseLayer(\n",
            "        (norm1): BatchNorm2d(608, eps=1e-05, momentum=0.1, affine=True, track_running_stats=True)\n",
            "        (relu1): ReLU(inplace=True)\n",
            "        (conv1): Conv2d(608, 128, kernel_size=(1, 1), stride=(1, 1), bias=False)\n",
            "        (norm2): BatchNorm2d(128, eps=1e-05, momentum=0.1, affine=True, track_running_stats=True)\n",
            "        (relu2): ReLU(inplace=True)\n",
            "        (conv2): Conv2d(128, 32, kernel_size=(3, 3), stride=(1, 1), padding=(1, 1), bias=False)\n",
            "      )\n",
            "      (denselayer13): _DenseLayer(\n",
            "        (norm1): BatchNorm2d(640, eps=1e-05, momentum=0.1, affine=True, track_running_stats=True)\n",
            "        (relu1): ReLU(inplace=True)\n",
            "        (conv1): Conv2d(640, 128, kernel_size=(1, 1), stride=(1, 1), bias=False)\n",
            "        (norm2): BatchNorm2d(128, eps=1e-05, momentum=0.1, affine=True, track_running_stats=True)\n",
            "        (relu2): ReLU(inplace=True)\n",
            "        (conv2): Conv2d(128, 32, kernel_size=(3, 3), stride=(1, 1), padding=(1, 1), bias=False)\n",
            "      )\n",
            "      (denselayer14): _DenseLayer(\n",
            "        (norm1): BatchNorm2d(672, eps=1e-05, momentum=0.1, affine=True, track_running_stats=True)\n",
            "        (relu1): ReLU(inplace=True)\n",
            "        (conv1): Conv2d(672, 128, kernel_size=(1, 1), stride=(1, 1), bias=False)\n",
            "        (norm2): BatchNorm2d(128, eps=1e-05, momentum=0.1, affine=True, track_running_stats=True)\n",
            "        (relu2): ReLU(inplace=True)\n",
            "        (conv2): Conv2d(128, 32, kernel_size=(3, 3), stride=(1, 1), padding=(1, 1), bias=False)\n",
            "      )\n",
            "      (denselayer15): _DenseLayer(\n",
            "        (norm1): BatchNorm2d(704, eps=1e-05, momentum=0.1, affine=True, track_running_stats=True)\n",
            "        (relu1): ReLU(inplace=True)\n",
            "        (conv1): Conv2d(704, 128, kernel_size=(1, 1), stride=(1, 1), bias=False)\n",
            "        (norm2): BatchNorm2d(128, eps=1e-05, momentum=0.1, affine=True, track_running_stats=True)\n",
            "        (relu2): ReLU(inplace=True)\n",
            "        (conv2): Conv2d(128, 32, kernel_size=(3, 3), stride=(1, 1), padding=(1, 1), bias=False)\n",
            "      )\n",
            "      (denselayer16): _DenseLayer(\n",
            "        (norm1): BatchNorm2d(736, eps=1e-05, momentum=0.1, affine=True, track_running_stats=True)\n",
            "        (relu1): ReLU(inplace=True)\n",
            "        (conv1): Conv2d(736, 128, kernel_size=(1, 1), stride=(1, 1), bias=False)\n",
            "        (norm2): BatchNorm2d(128, eps=1e-05, momentum=0.1, affine=True, track_running_stats=True)\n",
            "        (relu2): ReLU(inplace=True)\n",
            "        (conv2): Conv2d(128, 32, kernel_size=(3, 3), stride=(1, 1), padding=(1, 1), bias=False)\n",
            "      )\n",
            "      (denselayer17): _DenseLayer(\n",
            "        (norm1): BatchNorm2d(768, eps=1e-05, momentum=0.1, affine=True, track_running_stats=True)\n",
            "        (relu1): ReLU(inplace=True)\n",
            "        (conv1): Conv2d(768, 128, kernel_size=(1, 1), stride=(1, 1), bias=False)\n",
            "        (norm2): BatchNorm2d(128, eps=1e-05, momentum=0.1, affine=True, track_running_stats=True)\n",
            "        (relu2): ReLU(inplace=True)\n",
            "        (conv2): Conv2d(128, 32, kernel_size=(3, 3), stride=(1, 1), padding=(1, 1), bias=False)\n",
            "      )\n",
            "      (denselayer18): _DenseLayer(\n",
            "        (norm1): BatchNorm2d(800, eps=1e-05, momentum=0.1, affine=True, track_running_stats=True)\n",
            "        (relu1): ReLU(inplace=True)\n",
            "        (conv1): Conv2d(800, 128, kernel_size=(1, 1), stride=(1, 1), bias=False)\n",
            "        (norm2): BatchNorm2d(128, eps=1e-05, momentum=0.1, affine=True, track_running_stats=True)\n",
            "        (relu2): ReLU(inplace=True)\n",
            "        (conv2): Conv2d(128, 32, kernel_size=(3, 3), stride=(1, 1), padding=(1, 1), bias=False)\n",
            "      )\n",
            "      (denselayer19): _DenseLayer(\n",
            "        (norm1): BatchNorm2d(832, eps=1e-05, momentum=0.1, affine=True, track_running_stats=True)\n",
            "        (relu1): ReLU(inplace=True)\n",
            "        (conv1): Conv2d(832, 128, kernel_size=(1, 1), stride=(1, 1), bias=False)\n",
            "        (norm2): BatchNorm2d(128, eps=1e-05, momentum=0.1, affine=True, track_running_stats=True)\n",
            "        (relu2): ReLU(inplace=True)\n",
            "        (conv2): Conv2d(128, 32, kernel_size=(3, 3), stride=(1, 1), padding=(1, 1), bias=False)\n",
            "      )\n",
            "      (denselayer20): _DenseLayer(\n",
            "        (norm1): BatchNorm2d(864, eps=1e-05, momentum=0.1, affine=True, track_running_stats=True)\n",
            "        (relu1): ReLU(inplace=True)\n",
            "        (conv1): Conv2d(864, 128, kernel_size=(1, 1), stride=(1, 1), bias=False)\n",
            "        (norm2): BatchNorm2d(128, eps=1e-05, momentum=0.1, affine=True, track_running_stats=True)\n",
            "        (relu2): ReLU(inplace=True)\n",
            "        (conv2): Conv2d(128, 32, kernel_size=(3, 3), stride=(1, 1), padding=(1, 1), bias=False)\n",
            "      )\n",
            "      (denselayer21): _DenseLayer(\n",
            "        (norm1): BatchNorm2d(896, eps=1e-05, momentum=0.1, affine=True, track_running_stats=True)\n",
            "        (relu1): ReLU(inplace=True)\n",
            "        (conv1): Conv2d(896, 128, kernel_size=(1, 1), stride=(1, 1), bias=False)\n",
            "        (norm2): BatchNorm2d(128, eps=1e-05, momentum=0.1, affine=True, track_running_stats=True)\n",
            "        (relu2): ReLU(inplace=True)\n",
            "        (conv2): Conv2d(128, 32, kernel_size=(3, 3), stride=(1, 1), padding=(1, 1), bias=False)\n",
            "      )\n",
            "      (denselayer22): _DenseLayer(\n",
            "        (norm1): BatchNorm2d(928, eps=1e-05, momentum=0.1, affine=True, track_running_stats=True)\n",
            "        (relu1): ReLU(inplace=True)\n",
            "        (conv1): Conv2d(928, 128, kernel_size=(1, 1), stride=(1, 1), bias=False)\n",
            "        (norm2): BatchNorm2d(128, eps=1e-05, momentum=0.1, affine=True, track_running_stats=True)\n",
            "        (relu2): ReLU(inplace=True)\n",
            "        (conv2): Conv2d(128, 32, kernel_size=(3, 3), stride=(1, 1), padding=(1, 1), bias=False)\n",
            "      )\n",
            "      (denselayer23): _DenseLayer(\n",
            "        (norm1): BatchNorm2d(960, eps=1e-05, momentum=0.1, affine=True, track_running_stats=True)\n",
            "        (relu1): ReLU(inplace=True)\n",
            "        (conv1): Conv2d(960, 128, kernel_size=(1, 1), stride=(1, 1), bias=False)\n",
            "        (norm2): BatchNorm2d(128, eps=1e-05, momentum=0.1, affine=True, track_running_stats=True)\n",
            "        (relu2): ReLU(inplace=True)\n",
            "        (conv2): Conv2d(128, 32, kernel_size=(3, 3), stride=(1, 1), padding=(1, 1), bias=False)\n",
            "      )\n",
            "      (denselayer24): _DenseLayer(\n",
            "        (norm1): BatchNorm2d(992, eps=1e-05, momentum=0.1, affine=True, track_running_stats=True)\n",
            "        (relu1): ReLU(inplace=True)\n",
            "        (conv1): Conv2d(992, 128, kernel_size=(1, 1), stride=(1, 1), bias=False)\n",
            "        (norm2): BatchNorm2d(128, eps=1e-05, momentum=0.1, affine=True, track_running_stats=True)\n",
            "        (relu2): ReLU(inplace=True)\n",
            "        (conv2): Conv2d(128, 32, kernel_size=(3, 3), stride=(1, 1), padding=(1, 1), bias=False)\n",
            "      )\n",
            "    )\n",
            "    (transition3): _Transition(\n",
            "      (norm): BatchNorm2d(1024, eps=1e-05, momentum=0.1, affine=True, track_running_stats=True)\n",
            "      (relu): ReLU(inplace=True)\n",
            "      (conv): Conv2d(1024, 512, kernel_size=(1, 1), stride=(1, 1), bias=False)\n",
            "      (pool): AvgPool2d(kernel_size=2, stride=2, padding=0)\n",
            "    )\n",
            "    (denseblock4): _DenseBlock(\n",
            "      (denselayer1): _DenseLayer(\n",
            "        (norm1): BatchNorm2d(512, eps=1e-05, momentum=0.1, affine=True, track_running_stats=True)\n",
            "        (relu1): ReLU(inplace=True)\n",
            "        (conv1): Conv2d(512, 128, kernel_size=(1, 1), stride=(1, 1), bias=False)\n",
            "        (norm2): BatchNorm2d(128, eps=1e-05, momentum=0.1, affine=True, track_running_stats=True)\n",
            "        (relu2): ReLU(inplace=True)\n",
            "        (conv2): Conv2d(128, 32, kernel_size=(3, 3), stride=(1, 1), padding=(1, 1), bias=False)\n",
            "      )\n",
            "      (denselayer2): _DenseLayer(\n",
            "        (norm1): BatchNorm2d(544, eps=1e-05, momentum=0.1, affine=True, track_running_stats=True)\n",
            "        (relu1): ReLU(inplace=True)\n",
            "        (conv1): Conv2d(544, 128, kernel_size=(1, 1), stride=(1, 1), bias=False)\n",
            "        (norm2): BatchNorm2d(128, eps=1e-05, momentum=0.1, affine=True, track_running_stats=True)\n",
            "        (relu2): ReLU(inplace=True)\n",
            "        (conv2): Conv2d(128, 32, kernel_size=(3, 3), stride=(1, 1), padding=(1, 1), bias=False)\n",
            "      )\n",
            "      (denselayer3): _DenseLayer(\n",
            "        (norm1): BatchNorm2d(576, eps=1e-05, momentum=0.1, affine=True, track_running_stats=True)\n",
            "        (relu1): ReLU(inplace=True)\n",
            "        (conv1): Conv2d(576, 128, kernel_size=(1, 1), stride=(1, 1), bias=False)\n",
            "        (norm2): BatchNorm2d(128, eps=1e-05, momentum=0.1, affine=True, track_running_stats=True)\n",
            "        (relu2): ReLU(inplace=True)\n",
            "        (conv2): Conv2d(128, 32, kernel_size=(3, 3), stride=(1, 1), padding=(1, 1), bias=False)\n",
            "      )\n",
            "      (denselayer4): _DenseLayer(\n",
            "        (norm1): BatchNorm2d(608, eps=1e-05, momentum=0.1, affine=True, track_running_stats=True)\n",
            "        (relu1): ReLU(inplace=True)\n",
            "        (conv1): Conv2d(608, 128, kernel_size=(1, 1), stride=(1, 1), bias=False)\n",
            "        (norm2): BatchNorm2d(128, eps=1e-05, momentum=0.1, affine=True, track_running_stats=True)\n",
            "        (relu2): ReLU(inplace=True)\n",
            "        (conv2): Conv2d(128, 32, kernel_size=(3, 3), stride=(1, 1), padding=(1, 1), bias=False)\n",
            "      )\n",
            "      (denselayer5): _DenseLayer(\n",
            "        (norm1): BatchNorm2d(640, eps=1e-05, momentum=0.1, affine=True, track_running_stats=True)\n",
            "        (relu1): ReLU(inplace=True)\n",
            "        (conv1): Conv2d(640, 128, kernel_size=(1, 1), stride=(1, 1), bias=False)\n",
            "        (norm2): BatchNorm2d(128, eps=1e-05, momentum=0.1, affine=True, track_running_stats=True)\n",
            "        (relu2): ReLU(inplace=True)\n",
            "        (conv2): Conv2d(128, 32, kernel_size=(3, 3), stride=(1, 1), padding=(1, 1), bias=False)\n",
            "      )\n",
            "      (denselayer6): _DenseLayer(\n",
            "        (norm1): BatchNorm2d(672, eps=1e-05, momentum=0.1, affine=True, track_running_stats=True)\n",
            "        (relu1): ReLU(inplace=True)\n",
            "        (conv1): Conv2d(672, 128, kernel_size=(1, 1), stride=(1, 1), bias=False)\n",
            "        (norm2): BatchNorm2d(128, eps=1e-05, momentum=0.1, affine=True, track_running_stats=True)\n",
            "        (relu2): ReLU(inplace=True)\n",
            "        (conv2): Conv2d(128, 32, kernel_size=(3, 3), stride=(1, 1), padding=(1, 1), bias=False)\n",
            "      )\n",
            "      (denselayer7): _DenseLayer(\n",
            "        (norm1): BatchNorm2d(704, eps=1e-05, momentum=0.1, affine=True, track_running_stats=True)\n",
            "        (relu1): ReLU(inplace=True)\n",
            "        (conv1): Conv2d(704, 128, kernel_size=(1, 1), stride=(1, 1), bias=False)\n",
            "        (norm2): BatchNorm2d(128, eps=1e-05, momentum=0.1, affine=True, track_running_stats=True)\n",
            "        (relu2): ReLU(inplace=True)\n",
            "        (conv2): Conv2d(128, 32, kernel_size=(3, 3), stride=(1, 1), padding=(1, 1), bias=False)\n",
            "      )\n",
            "      (denselayer8): _DenseLayer(\n",
            "        (norm1): BatchNorm2d(736, eps=1e-05, momentum=0.1, affine=True, track_running_stats=True)\n",
            "        (relu1): ReLU(inplace=True)\n",
            "        (conv1): Conv2d(736, 128, kernel_size=(1, 1), stride=(1, 1), bias=False)\n",
            "        (norm2): BatchNorm2d(128, eps=1e-05, momentum=0.1, affine=True, track_running_stats=True)\n",
            "        (relu2): ReLU(inplace=True)\n",
            "        (conv2): Conv2d(128, 32, kernel_size=(3, 3), stride=(1, 1), padding=(1, 1), bias=False)\n",
            "      )\n",
            "      (denselayer9): _DenseLayer(\n",
            "        (norm1): BatchNorm2d(768, eps=1e-05, momentum=0.1, affine=True, track_running_stats=True)\n",
            "        (relu1): ReLU(inplace=True)\n",
            "        (conv1): Conv2d(768, 128, kernel_size=(1, 1), stride=(1, 1), bias=False)\n",
            "        (norm2): BatchNorm2d(128, eps=1e-05, momentum=0.1, affine=True, track_running_stats=True)\n",
            "        (relu2): ReLU(inplace=True)\n",
            "        (conv2): Conv2d(128, 32, kernel_size=(3, 3), stride=(1, 1), padding=(1, 1), bias=False)\n",
            "      )\n",
            "      (denselayer10): _DenseLayer(\n",
            "        (norm1): BatchNorm2d(800, eps=1e-05, momentum=0.1, affine=True, track_running_stats=True)\n",
            "        (relu1): ReLU(inplace=True)\n",
            "        (conv1): Conv2d(800, 128, kernel_size=(1, 1), stride=(1, 1), bias=False)\n",
            "        (norm2): BatchNorm2d(128, eps=1e-05, momentum=0.1, affine=True, track_running_stats=True)\n",
            "        (relu2): ReLU(inplace=True)\n",
            "        (conv2): Conv2d(128, 32, kernel_size=(3, 3), stride=(1, 1), padding=(1, 1), bias=False)\n",
            "      )\n",
            "      (denselayer11): _DenseLayer(\n",
            "        (norm1): BatchNorm2d(832, eps=1e-05, momentum=0.1, affine=True, track_running_stats=True)\n",
            "        (relu1): ReLU(inplace=True)\n",
            "        (conv1): Conv2d(832, 128, kernel_size=(1, 1), stride=(1, 1), bias=False)\n",
            "        (norm2): BatchNorm2d(128, eps=1e-05, momentum=0.1, affine=True, track_running_stats=True)\n",
            "        (relu2): ReLU(inplace=True)\n",
            "        (conv2): Conv2d(128, 32, kernel_size=(3, 3), stride=(1, 1), padding=(1, 1), bias=False)\n",
            "      )\n",
            "      (denselayer12): _DenseLayer(\n",
            "        (norm1): BatchNorm2d(864, eps=1e-05, momentum=0.1, affine=True, track_running_stats=True)\n",
            "        (relu1): ReLU(inplace=True)\n",
            "        (conv1): Conv2d(864, 128, kernel_size=(1, 1), stride=(1, 1), bias=False)\n",
            "        (norm2): BatchNorm2d(128, eps=1e-05, momentum=0.1, affine=True, track_running_stats=True)\n",
            "        (relu2): ReLU(inplace=True)\n",
            "        (conv2): Conv2d(128, 32, kernel_size=(3, 3), stride=(1, 1), padding=(1, 1), bias=False)\n",
            "      )\n",
            "      (denselayer13): _DenseLayer(\n",
            "        (norm1): BatchNorm2d(896, eps=1e-05, momentum=0.1, affine=True, track_running_stats=True)\n",
            "        (relu1): ReLU(inplace=True)\n",
            "        (conv1): Conv2d(896, 128, kernel_size=(1, 1), stride=(1, 1), bias=False)\n",
            "        (norm2): BatchNorm2d(128, eps=1e-05, momentum=0.1, affine=True, track_running_stats=True)\n",
            "        (relu2): ReLU(inplace=True)\n",
            "        (conv2): Conv2d(128, 32, kernel_size=(3, 3), stride=(1, 1), padding=(1, 1), bias=False)\n",
            "      )\n",
            "      (denselayer14): _DenseLayer(\n",
            "        (norm1): BatchNorm2d(928, eps=1e-05, momentum=0.1, affine=True, track_running_stats=True)\n",
            "        (relu1): ReLU(inplace=True)\n",
            "        (conv1): Conv2d(928, 128, kernel_size=(1, 1), stride=(1, 1), bias=False)\n",
            "        (norm2): BatchNorm2d(128, eps=1e-05, momentum=0.1, affine=True, track_running_stats=True)\n",
            "        (relu2): ReLU(inplace=True)\n",
            "        (conv2): Conv2d(128, 32, kernel_size=(3, 3), stride=(1, 1), padding=(1, 1), bias=False)\n",
            "      )\n",
            "      (denselayer15): _DenseLayer(\n",
            "        (norm1): BatchNorm2d(960, eps=1e-05, momentum=0.1, affine=True, track_running_stats=True)\n",
            "        (relu1): ReLU(inplace=True)\n",
            "        (conv1): Conv2d(960, 128, kernel_size=(1, 1), stride=(1, 1), bias=False)\n",
            "        (norm2): BatchNorm2d(128, eps=1e-05, momentum=0.1, affine=True, track_running_stats=True)\n",
            "        (relu2): ReLU(inplace=True)\n",
            "        (conv2): Conv2d(128, 32, kernel_size=(3, 3), stride=(1, 1), padding=(1, 1), bias=False)\n",
            "      )\n",
            "      (denselayer16): _DenseLayer(\n",
            "        (norm1): BatchNorm2d(992, eps=1e-05, momentum=0.1, affine=True, track_running_stats=True)\n",
            "        (relu1): ReLU(inplace=True)\n",
            "        (conv1): Conv2d(992, 128, kernel_size=(1, 1), stride=(1, 1), bias=False)\n",
            "        (norm2): BatchNorm2d(128, eps=1e-05, momentum=0.1, affine=True, track_running_stats=True)\n",
            "        (relu2): ReLU(inplace=True)\n",
            "        (conv2): Conv2d(128, 32, kernel_size=(3, 3), stride=(1, 1), padding=(1, 1), bias=False)\n",
            "      )\n",
            "    )\n",
            "    (norm5): BatchNorm2d(1024, eps=1e-05, momentum=0.1, affine=True, track_running_stats=True)\n",
            "  )\n",
            "  (classifier): Linear(in_features=1024, out_features=2, bias=True)\n",
            ")\n"
          ]
        }
      ]
    },
    {
      "cell_type": "code",
      "source": [
        "import torch\n",
        "torch.cuda.empty_cache()\n"
      ],
      "metadata": {
        "id": "feTSY-Zifi26"
      },
      "execution_count": null,
      "outputs": []
    },
    {
      "cell_type": "code",
      "source": [
        "# Define loss function (CrossEntropyLoss)\n",
        "criterion = nn.CrossEntropyLoss()\n",
        "\n",
        "# Define optimizer (Adam)\n",
        "optimizer = optim.Adam(model.parameters(), lr=0.0001)\n"
      ],
      "metadata": {
        "id": "1T70kBKO5dS5"
      },
      "execution_count": null,
      "outputs": []
    },
    {
      "cell_type": "code",
      "source": [
        "import torch\n",
        "import matplotlib.pyplot as plt\n",
        "from tqdm import tqdm\n",
        "\n",
        "# Create DataLoader for training\n",
        "train_loader = DataLoader(train_dataset, batch_size= 64, shuffle=True)\n",
        "\n",
        "# Define lists to track loss and accuracy\n",
        "train_loss = []\n",
        "train_acc = []\n",
        "\n",
        "# Training loop\n",
        "num_epochs = 10\n",
        "for epoch in range(num_epochs):\n",
        "    model.train()  # Set model to training mode\n",
        "    running_loss = 0.0\n",
        "    correct_predictions = 0\n",
        "    total_samples = 0\n",
        "\n",
        "    # Using tqdm for progress bar during training\n",
        "    for inputs, labels in tqdm(train_loader, desc=f\"Epoch {epoch+1}/{num_epochs}\", unit=\"batch\"):\n",
        "        # Move data to the same device as model\n",
        "        inputs, labels = inputs.to(device), labels.to(device)\n",
        "\n",
        "        # Zero the gradients\n",
        "        optimizer.zero_grad()\n",
        "\n",
        "        # Forward pass\n",
        "        outputs = model(inputs)\n",
        "\n",
        "        # Compute loss\n",
        "        loss = criterion(outputs, labels)\n",
        "\n",
        "        # Backward pass\n",
        "        loss.backward()\n",
        "\n",
        "        # Update weights\n",
        "        optimizer.step()\n",
        "\n",
        "        # Calculate accuracy\n",
        "        _, predicted = torch.max(outputs, 1)\n",
        "        correct_predictions += (predicted == labels).sum().item()\n",
        "        total_samples += labels.size(0)\n",
        "\n",
        "        # Track loss\n",
        "        running_loss += loss.item()\n",
        "\n",
        "    # Calculate average loss and accuracy for the epoch\n",
        "    epoch_loss = running_loss / len(train_loader)\n",
        "    epoch_accuracy = correct_predictions / total_samples * 100\n",
        "\n",
        "    # Store the loss and accuracy for plotting\n",
        "    train_loss.append(epoch_loss)\n",
        "    train_acc.append(epoch_accuracy)\n",
        "\n",
        "    print(f'Epoch [{epoch+1}/{num_epochs}], Loss: {epoch_loss:.4f}, Accuracy: {epoch_accuracy:.2f}%')\n",
        "\n",
        "# After training, plot loss and accuracy curves\n",
        "plt.figure(figsize=(12, 5))\n",
        "\n",
        "# Plotting the loss curve\n",
        "plt.subplot(1, 2, 1)\n",
        "plt.plot(range(1, num_epochs + 1), train_loss, label='Train Loss')\n",
        "plt.xlabel('Epochs')\n",
        "plt.ylabel('Loss')\n",
        "plt.legend()\n",
        "\n",
        "# Plotting the accuracy curve\n",
        "plt.subplot(1, 2, 2)\n",
        "plt.plot(range(1, num_epochs + 1), train_acc, label='Train Accuracy')\n",
        "plt.xlabel('Epochs')\n",
        "plt.ylabel('Accuracy (%)')\n",
        "plt.legend()\n",
        "\n",
        "plt.tight_layout()\n",
        "plt.show()"
      ],
      "metadata": {
        "colab": {
          "base_uri": "https://localhost:8080/",
          "height": 869
        },
        "id": "W_vfWyGN5jiH",
        "outputId": "7b4f54b2-92a7-4534-96a6-33b54f23880b"
      },
      "execution_count": null,
      "outputs": [
        {
          "output_type": "stream",
          "name": "stderr",
          "text": [
            "Epoch 1/10: 100%|██████████| 173/173 [1:04:06<00:00, 22.24s/batch]\n"
          ]
        },
        {
          "output_type": "stream",
          "name": "stdout",
          "text": [
            "Epoch [1/10], Loss: 0.0758, Accuracy: 97.50%\n"
          ]
        },
        {
          "output_type": "stream",
          "name": "stderr",
          "text": [
            "Epoch 2/10: 100%|██████████| 173/173 [03:17<00:00,  1.14s/batch]\n"
          ]
        },
        {
          "output_type": "stream",
          "name": "stdout",
          "text": [
            "Epoch [2/10], Loss: 0.0129, Accuracy: 99.61%\n"
          ]
        },
        {
          "output_type": "stream",
          "name": "stderr",
          "text": [
            "Epoch 3/10: 100%|██████████| 173/173 [03:17<00:00,  1.14s/batch]\n"
          ]
        },
        {
          "output_type": "stream",
          "name": "stdout",
          "text": [
            "Epoch [3/10], Loss: 0.0086, Accuracy: 99.74%\n"
          ]
        },
        {
          "output_type": "stream",
          "name": "stderr",
          "text": [
            "Epoch 4/10: 100%|██████████| 173/173 [03:14<00:00,  1.12s/batch]\n"
          ]
        },
        {
          "output_type": "stream",
          "name": "stdout",
          "text": [
            "Epoch [4/10], Loss: 0.0038, Accuracy: 99.90%\n"
          ]
        },
        {
          "output_type": "stream",
          "name": "stderr",
          "text": [
            "Epoch 5/10: 100%|██████████| 173/173 [03:15<00:00,  1.13s/batch]\n"
          ]
        },
        {
          "output_type": "stream",
          "name": "stdout",
          "text": [
            "Epoch [5/10], Loss: 0.0049, Accuracy: 99.87%\n"
          ]
        },
        {
          "output_type": "stream",
          "name": "stderr",
          "text": [
            "Epoch 6/10: 100%|██████████| 173/173 [03:14<00:00,  1.12s/batch]\n"
          ]
        },
        {
          "output_type": "stream",
          "name": "stdout",
          "text": [
            "Epoch [6/10], Loss: 0.0065, Accuracy: 99.81%\n"
          ]
        },
        {
          "output_type": "stream",
          "name": "stderr",
          "text": [
            "Epoch 7/10: 100%|██████████| 173/173 [03:15<00:00,  1.13s/batch]\n"
          ]
        },
        {
          "output_type": "stream",
          "name": "stdout",
          "text": [
            "Epoch [7/10], Loss: 0.0033, Accuracy: 99.88%\n"
          ]
        },
        {
          "output_type": "stream",
          "name": "stderr",
          "text": [
            "Epoch 8/10: 100%|██████████| 173/173 [03:15<00:00,  1.13s/batch]\n"
          ]
        },
        {
          "output_type": "stream",
          "name": "stdout",
          "text": [
            "Epoch [8/10], Loss: 0.0006, Accuracy: 99.99%\n"
          ]
        },
        {
          "output_type": "stream",
          "name": "stderr",
          "text": [
            "Epoch 9/10: 100%|██████████| 173/173 [03:14<00:00,  1.13s/batch]\n"
          ]
        },
        {
          "output_type": "stream",
          "name": "stdout",
          "text": [
            "Epoch [9/10], Loss: 0.0002, Accuracy: 100.00%\n"
          ]
        },
        {
          "output_type": "stream",
          "name": "stderr",
          "text": [
            "Epoch 10/10: 100%|██████████| 173/173 [03:14<00:00,  1.13s/batch]\n"
          ]
        },
        {
          "output_type": "stream",
          "name": "stdout",
          "text": [
            "Epoch [10/10], Loss: 0.0024, Accuracy: 99.92%\n"
          ]
        },
        {
          "output_type": "display_data",
          "data": {
            "text/plain": [
              "<Figure size 1200x500 with 2 Axes>"
            ],
            "image/png": "[encoded data removed]"
          },
          "metadata": {}
        }
      ]
    },
    {
      "cell_type": "code",
      "source": [
        "#Save the model's state_dict (weights)\n",
        "# Uncomment the bellow line if you want to save your newly traned model #\n",
        "#!!torch.save(model.state_dict(), '/content/drive/MyDrive/Covid_xrays_classifier/model.pth')\n",
        "#print(\"Model saved successfully!\")\n"
      ],
      "metadata": {
        "id": "GbF9uZHrxvr_",
        "collapsed": true
      },
      "execution_count": null,
      "outputs": []
    },
    {
      "cell_type": "code",
      "source": [
        "import torch\n",
        "from tqdm import tqdm\n",
        "import matplotlib.pyplot as plt\n",
        "from torchvision import models\n",
        "\n",
        "# Directories for test dataset\n",
        "normal_test_dir = '/content/drive/MyDrive/Covid_xrays_classifier/xray_covid19_dataset/normal_dataset/normal test'\n",
        "covid_test_dir = '/content/drive/MyDrive/Covid_xrays_classifier/xray_covid19_dataset/Covid_dataset/Covid test'\n",
        "\n",
        "# Define the transformations (ensure it's the same as training)\n",
        "transform = transforms.Compose([\n",
        "    transforms.Resize((224, 224)),  # Ensuring the input size is consistent\n",
        "    transforms.ToTensor(),\n",
        "    transforms.Normalize(mean=[0.485, 0.456, 0.406], std=[0.229, 0.224, 0.225]),\n",
        "])\n",
        "\n",
        "# Create DataLoader for the test dataset\n",
        "test_dataset = CustomCovidNormalDataset(normal_test_dir, covid_test_dir, transform=transform)\n",
        "test_loader = DataLoader(test_dataset, batch_size=32, shuffle=False)\n",
        "\n",
        "# Load the pre-trained model\n",
        "model = models.densenet121(pretrained=True)  # Using pretrained=True to start with a model with weights\n",
        "model.classifier = torch.nn.Linear(model.classifier.in_features, 2)  # Modify the final layer to match your task\n",
        "\n",
        "# Load the saved weights from the trained model\n",
        "model.load_state_dict(torch.load('/content/drive/MyDrive/Covid_xrays_classifier/model.pth', map_location=torch.device('cpu')))\n",
        "\n",
        "# Set model to evaluation mode (important for inference)\n",
        "model.eval()\n",
        "\n",
        "# Move the model to the CPU (ensure the model is on the correct device)\n",
        "model.to(torch.device('cpu'))\n",
        "\n",
        "# List to track the accuracy over multiple tests (if you plan on testing multiple times)\n",
        "test_accuracies = []\n",
        "\n",
        "# Variables to track correct predictions and total samples\n",
        "correct_predictions = 0\n",
        "total_samples = 0\n",
        "\n",
        "# tqdm for the progress bar in test loop\n",
        "with torch.no_grad():  # No need to compute gradients for testing\n",
        "    for inputs, labels in tqdm(test_loader, desc=\"Testing\", unit=\"batch\"):\n",
        "        # Ensure both inputs and labels are on the correct device (CPU)\n",
        "        inputs, labels = inputs.to(torch.device('cpu')), labels.to(torch.device('cpu'))\n",
        "\n",
        "        # Get model predictions\n",
        "        outputs = model(inputs)\n",
        "        _, predicted = torch.max(outputs, 1)\n",
        "\n",
        "        # Update the count of correct predictions and total samples\n",
        "        correct_predictions += (predicted == labels).sum().item()\n",
        "        total_samples += labels.size(0)\n",
        "\n",
        "# Calculate and print test accuracy\n",
        "test_accuracy = (correct_predictions / total_samples) * 100\n",
        "print(f'Test Accuracy: {test_accuracy:.2f}%')\n",
        "\n",
        "# Append the test accuracy to the list for potential future plotting\n",
        "test_accuracies.append(test_accuracy)\n",
        "\n",
        "# Plotting the accuracy over test iterations (if running multiple tests)\n",
        "plt.figure(figsize=(8, 6))\n",
        "plt.plot(range(1, len(test_accuracies) + 1), test_accuracies, marker='o', label='Test Accuracy')\n",
        "plt.xlabel('Test Iterations')\n",
        "plt.ylabel('Accuracy (%)')\n",
        "plt.title('Test Accuracy Progress')\n",
        "plt.legend()\n",
        "plt.grid(True)\n",
        "plt.show()\n"
      ],
      "metadata": {
        "colab": {
          "base_uri": "https://localhost:8080/",
          "height": 729
        },
        "id": "ibQcRsSa_IGD",
        "outputId": "7d8b90b4-577c-4d7f-8215-108c4bfc92ff"
      },
      "execution_count": null,
      "outputs": [
        {
          "output_type": "stream",
          "name": "stderr",
          "text": [
            "/usr/local/lib/python3.10/dist-packages/torchvision/models/_utils.py:208: UserWarning: The parameter 'pretrained' is deprecated since 0.13 and may be removed in the future, please use 'weights' instead.\n",
            "  warnings.warn(\n",
            "/usr/local/lib/python3.10/dist-packages/torchvision/models/_utils.py:223: UserWarning: Arguments other than a weight enum or `None` for 'weights' are deprecated since 0.13 and may be removed in the future. The current behavior is equivalent to passing `weights=DenseNet121_Weights.IMAGENET1K_V1`. You can also use `weights=DenseNet121_Weights.DEFAULT` to get the most up-to-date weights.\n",
            "  warnings.warn(msg)\n",
            "<ipython-input-18-6617d090ea62>:26: FutureWarning: You are using `torch.load` with `weights_only=False` (the current default value), which uses the default pickle module implicitly. It is possible to construct malicious pickle data which will execute arbitrary code during unpickling (See https://github.com/pytorch/pytorch/blob/main/SECURITY.md#untrusted-models for more details). In a future release, the default value for `weights_only` will be flipped to `True`. This limits the functions that could be executed during unpickling. Arbitrary objects will no longer be allowed to be loaded via this mode unless they are explicitly allowlisted by the user via `torch.serialization.add_safe_globals`. We recommend you start setting `weights_only=True` for any use case where you don't have full control of the loaded file. Please open an issue on GitHub for any issues related to this experimental feature.\n",
            "  model.load_state_dict(torch.load('/content/drive/MyDrive/Covid_xrays_classifier/model.pth', map_location=torch.device('cpu')))\n",
            "Testing: 100%|██████████| 44/44 [05:19<00:00,  7.25s/batch]\n"
          ]
        },
        {
          "output_type": "stream",
          "name": "stdout",
          "text": [
            "Test Accuracy: 97.68%\n"
          ]
        },
        {
          "output_type": "display_data",
          "data": {
            "text/plain": [
              "<Figure size 800x600 with 1 Axes>"
            ],
            "image/png": "[encoded data removed]"
          },
          "metadata": {}
        }
      ]
    },
    {
      "cell_type": "code",
      "source": [
        "##################################   SECOND IMPLEMENTATION of class/on report #########################\n",
        "\n",
        "\n",
        "import torch\n",
        "from sklearn.metrics import classification_report\n",
        "from torchvision import models\n",
        "import torchvision.transforms as transforms\n",
        "from torch.utils.data import DataLoader\n",
        "from tqdm import tqdm  # Import tqdm for progress bar\n",
        "\n",
        "# Assuming you have the paths to your validation dataset directories\n",
        "normal_val_dir = '/content/drive/MyDrive/Covid_xrays_classifier/xray_covid19_dataset/normal_dataset/normal test'\n",
        "covid_val_dir = '/content/drive/MyDrive/Covid_xrays_classifier/xray_covid19_dataset/Covid_dataset/Covid test'\n",
        "\n",
        "# Define the transformations (you can modify this as needed)\n",
        "transform = transforms.Compose([\n",
        "    transforms.Resize((224, 224)),\n",
        "    transforms.ToTensor(),\n",
        "    transforms.Normalize(mean=[0.485, 0.456, 0.406], std=[0.229, 0.224, 0.225]),\n",
        "])\n",
        "\n",
        "# Create the validation dataset (you'll need to define CustomCovidNormalDataset elsewhere in your code)\n",
        "val_dataset = CustomCovidNormalDataset(normal_val_dir, covid_val_dir, transform=transform)\n",
        "\n",
        "# Create the validation DataLoader\n",
        "val_loader = DataLoader(val_dataset, batch_size=32, shuffle=False, num_workers=4, pin_memory=True)\n",
        "\n",
        "# Now, val_loader is ready to be used in the prediction and evaluation code\n",
        "\n",
        "# Load the model (it was saved in model.pth)\n",
        "model = models.densenet121(pretrained=True)\n",
        "\n",
        "# Modify the classifier to output 2 classes (Covid, Normal)\n",
        "model.classifier = torch.nn.Linear(model.classifier.in_features, 2)\n",
        "\n",
        "# Load the saved weights for all layers\n",
        "model.load_state_dict(torch.load('/content/drive/MyDrive/Covid_xrays_classifier/model.pth', map_location=torch.device('cpu')))\n",
        "\n",
        "# Move the model to CPU (in case it was previously using GPU)\n",
        "device = torch.device(\"cpu\")\n",
        "model.to(device)\n",
        "\n",
        "# Set the model to evaluation mode\n",
        "model.eval()\n",
        "\n",
        "# Store the true labels and predictions\n",
        "true_labels = []\n",
        "predictions = []\n",
        "\n",
        "# Assuming you have the val_loader already defined\n",
        "with torch.no_grad():  # No need to compute gradients for validation\n",
        "    # Use tqdm for a progress bar during validation\n",
        "    for inputs, labels in tqdm(val_loader, desc=\"Evaluating\", leave=True):  # Wrap the loop with tqdm\n",
        "        inputs, labels = inputs.to(device), labels.to(device)  # Ensure both are on CPU\n",
        "        outputs = model(inputs)\n",
        "\n",
        "        # Get predicted class\n",
        "        _, predicted = torch.max(outputs, 1)\n",
        "\n",
        "        # Store the true labels and predictions\n",
        "        true_labels.extend(labels.numpy())  # Move to CPU before appending\n",
        "        predictions.extend(predicted.numpy())\n",
        "\n",
        "# Print the classification report (Precision, Recall, F1-score)\n",
        "report = classification_report(true_labels, predictions, target_names=['Normal', 'Covid'])\n",
        "print(report)\n"
      ],
      "metadata": {
        "colab": {
          "base_uri": "https://localhost:8080/"
        },
        "id": "IQpSCoIJBHpv",
        "outputId": "ecb186eb-767a-4642-9537-91dcff59c38f"
      },
      "execution_count": null,
      "outputs": [
        {
          "output_type": "stream",
          "name": "stderr",
          "text": [
            "/usr/local/lib/python3.10/dist-packages/torch/utils/data/dataloader.py:617: UserWarning: This DataLoader will create 4 worker processes in total. Our suggested max number of worker in current system is 2, which is smaller than what this DataLoader is going to create. Please be aware that excessive worker creation might get DataLoader running slow or even freeze, lower the worker number to avoid potential slowness/freeze if necessary.\n",
            "  warnings.warn(\n",
            "/usr/local/lib/python3.10/dist-packages/torchvision/models/_utils.py:208: UserWarning: The parameter 'pretrained' is deprecated since 0.13 and may be removed in the future, please use 'weights' instead.\n",
            "  warnings.warn(\n",
            "/usr/local/lib/python3.10/dist-packages/torchvision/models/_utils.py:223: UserWarning: Arguments other than a weight enum or `None` for 'weights' are deprecated since 0.13 and may be removed in the future. The current behavior is equivalent to passing `weights=DenseNet121_Weights.IMAGENET1K_V1`. You can also use `weights=DenseNet121_Weights.DEFAULT` to get the most up-to-date weights.\n",
            "  warnings.warn(msg)\n",
            "<ipython-input-27-29575d51c399>:37: FutureWarning: You are using `torch.load` with `weights_only=False` (the current default value), which uses the default pickle module implicitly. It is possible to construct malicious pickle data which will execute arbitrary code during unpickling (See https://github.com/pytorch/pytorch/blob/main/SECURITY.md#untrusted-models for more details). In a future release, the default value for `weights_only` will be flipped to `True`. This limits the functions that could be executed during unpickling. Arbitrary objects will no longer be allowed to be loaded via this mode unless they are explicitly allowlisted by the user via `torch.serialization.add_safe_globals`. We recommend you start setting `weights_only=True` for any use case where you don't have full control of the loaded file. Please open an issue on GitHub for any issues related to this experimental feature.\n",
            "  model.load_state_dict(torch.load('/content/drive/MyDrive/Covid_xrays_classifier/model.pth', map_location=torch.device('cpu')))\n",
            "Evaluating: 100%|██████████| 44/44 [05:34<00:00,  7.60s/it]"
          ]
        },
        {
          "output_type": "stream",
          "name": "stdout",
          "text": [
            "              precision    recall  f1-score   support\n",
            "\n",
            "      Normal       0.97      1.00      0.98      1020\n",
            "       Covid       1.00      0.91      0.95       362\n",
            "\n",
            "    accuracy                           0.98      1382\n",
            "   macro avg       0.98      0.96      0.97      1382\n",
            "weighted avg       0.98      0.98      0.98      1382\n",
            "\n"
          ]
        },
        {
          "output_type": "stream",
          "name": "stderr",
          "text": [
            "\n"
          ]
        }
      ]
    },
    {
      "cell_type": "code",
      "source": [
        "# Create DataLoader for validation or test\n",
        "val_dataset = CustomCovidNormalDataset(normal_val_dir, covid_val_dir, transform=transform)\n",
        "val_loader = DataLoader(val_dataset, batch_size=32, shuffle=False)\n",
        "\n",
        "# Evaluation loop\n",
        "model.eval()  # Set model to evaluation mode\n",
        "correct_predictions = 0\n",
        "total_samples = 0\n",
        "\n",
        "with torch.no_grad():\n",
        "    for inputs, labels in val_loader:\n",
        "        inputs, labels = inputs.to(device), labels.to(device)\n",
        "        outputs = model(inputs)\n",
        "        _, predicted = torch.max(outputs, 1)\n",
        "        correct_predictions += (predicted == labels).sum().item()\n",
        "        total_samples += labels.size(0)\n",
        "\n",
        "# Calculate validation accuracy\n",
        "val_accuracy = correct_predictions / total_samples * 100\n",
        "print(f'Validation Accuracy: {val_accuracy:.2f}%')\n"
      ],
      "metadata": {
        "collapsed": true,
        "id": "azOiOoLD96j1"
      },
      "execution_count": null,
      "outputs": []
    },
    {
      "cell_type": "code",
      "source": [
        "# Load the saved weights with map_location='cpu' to ensure it's loaded on CPU\n",
        "model.load_state_dict(torch.load('/content/drive/MyDrive/Covid_xrays_classifier/model.pth', map_location=torch.device('cpu')))\n",
        "\n",
        "# Move the model to the device\n",
        "device = torch.device(\"cuda\" if torch.cuda.is_available() else \"cpu\")\n",
        "model.to(device)\n",
        "\n",
        "print(\"Model loaded successfully!\")\n"
      ],
      "metadata": {
        "colab": {
          "base_uri": "https://localhost:8080/"
        },
        "id": "PRvfqHkLJYvu",
        "outputId": "94d1e1a3-77c6-44b0-f9e9-2b54765c513a"
      },
      "execution_count": null,
      "outputs": [
        {
          "output_type": "stream",
          "name": "stdout",
          "text": [
            "Model loaded successfully!\n"
          ]
        },
        {
          "output_type": "stream",
          "name": "stderr",
          "text": [
            "<ipython-input-47-34e2ed67bbc4>:2: FutureWarning: You are using `torch.load` with `weights_only=False` (the current default value), which uses the default pickle module implicitly. It is possible to construct malicious pickle data which will execute arbitrary code during unpickling (See https://github.com/pytorch/pytorch/blob/main/SECURITY.md#untrusted-models for more details). In a future release, the default value for `weights_only` will be flipped to `True`. This limits the functions that could be executed during unpickling. Arbitrary objects will no longer be allowed to be loaded via this mode unless they are explicitly allowlisted by the user via `torch.serialization.add_safe_globals`. We recommend you start setting `weights_only=True` for any use case where you don't have full control of the loaded file. Please open an issue on GitHub for any issues related to this experimental feature.\n",
            "  model.load_state_dict(torch.load('/content/drive/MyDrive/Covid_xrays_classifier/model.pth', map_location=torch.device('cpu')))\n"
          ]
        }
      ]
    },
    {
      "cell_type": "code",
      "source": [
        "import torch\n",
        "from torch.utils.data import DataLoader\n",
        "from tqdm import tqdm\n",
        "import matplotlib.pyplot as plt\n",
        "\n",
        "# Directories for test dataset\n",
        "normal_test_dir = '/content/drive/MyDrive/Covid_xrays_classifier/xray_covid19_dataset/normal_dataset/normal test'\n",
        "covid_test_dir = '/content/drive/MyDrive/Covid_xrays_classifier/xray_covid19_dataset/Covid_dataset/Covid test'\n",
        "\n",
        "# Create DataLoader for test dataset\n",
        "test_dataset = CustomCovidNormalDataset(normal_test_dir, covid_test_dir, transform=transform)\n",
        "test_loader = DataLoader(test_dataset, batch_size=32, shuffle=False)\n",
        "\n",
        "# Model evaluation\n",
        "model.eval()  # Set model to evaluation mode\n",
        "correct_predictions = 0\n",
        "total_samples = 0\n",
        "\n",
        "# Test loop with tqdm progress bar\n",
        "with torch.no_grad():\n",
        "    # Adding tqdm to show a progress bar\n",
        "    for inputs, labels in tqdm(test_loader, desc=\"Testing\", unit=\"batch\"):\n",
        "        inputs, labels = inputs.to(device), labels.to(device)\n",
        "        outputs = model(inputs)\n",
        "        _, predicted = torch.max(outputs, 1)\n",
        "        correct_predictions += (predicted == labels).sum().item()\n",
        "        total_samples += labels.size(0)\n",
        "\n",
        "# Calculate test accuracy\n",
        "test_accuracy = correct_predictions / total_samples * 100\n",
        "print(f'Test Accuracy: {test_accuracy:.2f}%')\n",
        "\n"
      ],
      "metadata": {
        "colab": {
          "base_uri": "https://localhost:8080/"
        },
        "id": "e8b1y46ULFVV",
        "outputId": "a5f73c80-781c-4ef4-b243-4fffab068502"
      },
      "execution_count": null,
      "outputs": [
        {
          "output_type": "stream",
          "name": "stderr",
          "text": [
            "Testing: 100%|██████████| 44/44 [05:19<00:00,  7.26s/batch]"
          ]
        },
        {
          "output_type": "stream",
          "name": "stdout",
          "text": [
            "Test Accuracy: 97.68%\n"
          ]
        },
        {
          "output_type": "stream",
          "name": "stderr",
          "text": [
            "\n"
          ]
        }
      ]
    },
    {
      "cell_type": "code",
      "source": [
        "import torch\n",
        "import numpy as np\n",
        "from sklearn.metrics import classification_report, roc_auc_score\n",
        "from torchvision import models\n",
        "import torchvision.transforms as transforms\n",
        "from torch.utils.data import DataLoader\n",
        "from tqdm import tqdm  # Import tqdm for progress bar\n",
        "\n",
        "# Assuming you have the paths to your validation dataset directories\n",
        "normal_val_dir = '/content/drive/MyDrive/Covid_xrays_classifier/xray_covid19_dataset/normal_dataset/normal test'\n",
        "covid_val_dir = '/content/drive/MyDrive/Covid_xrays_classifier/xray_covid19_dataset/Covid_dataset/Covid test'\n",
        "\n",
        "# Define the transformations (you can modify this as needed)\n",
        "transform = transforms.Compose([\n",
        "    transforms.Resize((224, 224)),\n",
        "    transforms.ToTensor(),\n",
        "    transforms.Normalize(mean=[0.485, 0.456, 0.406], std=[0.229, 0.224, 0.225]),\n",
        "])\n",
        "\n",
        "# Create the validation dataset (you'll need to define CustomCovidNormalDataset elsewhere in your code)\n",
        "val_dataset = CustomCovidNormalDataset(normal_val_dir, covid_val_dir, transform=transform)\n",
        "\n",
        "# Create the validation DataLoader\n",
        "val_loader = DataLoader(val_dataset, batch_size=32, shuffle=False, num_workers=4, pin_memory=True)\n",
        "\n",
        "# Load the model (it was saved in model.pth)\n",
        "model = models.densenet121(pretrained=True)  # Set pretrained=True as you did during initial setup\n",
        "\n",
        "# Modify the classifier to output 2 classes (Covid, Normal)\n",
        "model.classifier = torch.nn.Linear(model.classifier.in_features, 2)\n",
        "\n",
        "# Load the saved weights for all layers except the classifier (this is necessary since the classifier has 2 outputs)\n",
        "checkpoint = torch.load('/content/drive/MyDrive/Covid_xrays_classifier/model.pth', map_location=torch.device('cpu'))\n",
        "\n",
        "# Filter out the classifier weights and load the rest of the model weights\n",
        "checkpoint = {k: v for k, v in checkpoint.items() if 'classifier' not in k}\n",
        "model.load_state_dict(checkpoint, strict=False)\n",
        "\n",
        "# Move the model to CPU (in case it was previously using GPU)\n",
        "model.to(torch.device('cpu'))\n",
        "\n",
        "# Set the model to evaluation mode\n",
        "model.eval()\n",
        "\n",
        "# Store the true labels, predictions, and probabilities\n",
        "true_labels = []\n",
        "predictions = []\n",
        "probs = []  # To store the class probabilities\n",
        "\n",
        "# Assuming you have the val_loader already defined\n",
        "with torch.no_grad():  # No need to compute gradients for validation\n",
        "    # Use tqdm for a progress bar during validation\n",
        "    for inputs, labels in tqdm(val_loader, desc=\"Evaluating\", leave=True, unit=\"batch\"):  # Wrap the loop with tqdm\n",
        "        inputs, labels = inputs.to(torch.device('cpu')), labels.to(torch.device('cpu'))  # Ensure both are on CPU\n",
        "        outputs = model(inputs)\n",
        "\n",
        "        # Get predicted class\n",
        "        _, predicted = torch.max(outputs, 1)\n",
        "\n",
        "        # Store the true labels and predictions\n",
        "        true_labels.extend(labels.numpy())  # Move to CPU before appending\n",
        "        predictions.extend(predicted.numpy())\n",
        "\n",
        "        # Get the probabilities for each class (using softmax)\n",
        "        prob = torch.nn.functional.softmax(outputs, dim=1)  # Apply softmax to get probabilities\n",
        "        probs.extend(prob.numpy())  # Store probabilities\n",
        "\n",
        "# Print the classification report (Precision, Recall, F1-score)\n",
        "report = classification_report(true_labels, predictions, target_names=['Normal', 'Covid'])\n",
        "print(report)\n",
        "\n",
        "# Calculate AUC (Area Under the Curve)\n",
        "# We need the probabilities for the positive class (Covid = 1)\n",
        "# Convert the probabilities to numpy arrays and calculate AUC for the positive class\n",
        "probs = np.array(probs)  # Convert to numpy array\n",
        "auc = roc_auc_score(true_labels, probs[:, 1])  # Use the probability of the positive class (Covid)\n",
        "print(f\"AUC: {auc:.4f}\")\n"
      ],
      "metadata": {
        "colab": {
          "base_uri": "https://localhost:8080/"
        },
        "id": "rVEocsO6DeuI",
        "outputId": "c881370e-2cc0-43bf-9a8c-e48a6c01ca5e"
      },
      "execution_count": null,
      "outputs": [
        {
          "output_type": "stream",
          "name": "stderr",
          "text": [
            "/usr/local/lib/python3.10/dist-packages/torch/utils/data/dataloader.py:617: UserWarning: This DataLoader will create 4 worker processes in total. Our suggested max number of worker in current system is 2, which is smaller than what this DataLoader is going to create. Please be aware that excessive worker creation might get DataLoader running slow or even freeze, lower the worker number to avoid potential slowness/freeze if necessary.\n",
            "  warnings.warn(\n",
            "<ipython-input-49-58e30524cdc1>:33: FutureWarning: You are using `torch.load` with `weights_only=False` (the current default value), which uses the default pickle module implicitly. It is possible to construct malicious pickle data which will execute arbitrary code during unpickling (See https://github.com/pytorch/pytorch/blob/main/SECURITY.md#untrusted-models for more details). In a future release, the default value for `weights_only` will be flipped to `True`. This limits the functions that could be executed during unpickling. Arbitrary objects will no longer be allowed to be loaded via this mode unless they are explicitly allowlisted by the user via `torch.serialization.add_safe_globals`. We recommend you start setting `weights_only=True` for any use case where you don't have full control of the loaded file. Please open an issue on GitHub for any issues related to this experimental feature.\n",
            "  checkpoint = torch.load('/content/drive/MyDrive/Covid_xrays_classifier/model.pth', map_location=torch.device('cpu'))\n",
            "Evaluating: 100%|██████████| 44/44 [05:26<00:00,  7.42s/batch]"
          ]
        },
        {
          "output_type": "stream",
          "name": "stdout",
          "text": [
            "              precision    recall  f1-score   support\n",
            "\n",
            "      Normal       0.74      1.00      0.85      1020\n",
            "       Covid       0.00      0.00      0.00       362\n",
            "\n",
            "    accuracy                           0.74      1382\n",
            "   macro avg       0.37      0.50      0.42      1382\n",
            "weighted avg       0.54      0.74      0.63      1382\n",
            "\n",
            "AUC: 0.2390\n"
          ]
        },
        {
          "output_type": "stream",
          "name": "stderr",
          "text": [
            "\n",
            "/usr/local/lib/python3.10/dist-packages/sklearn/metrics/_classification.py:1565: UndefinedMetricWarning: Precision is ill-defined and being set to 0.0 in labels with no predicted samples. Use `zero_division` parameter to control this behavior.\n",
            "  _warn_prf(average, modifier, f\"{metric.capitalize()} is\", len(result))\n",
            "/usr/local/lib/python3.10/dist-packages/sklearn/metrics/_classification.py:1565: UndefinedMetricWarning: Precision is ill-defined and being set to 0.0 in labels with no predicted samples. Use `zero_division` parameter to control this behavior.\n",
            "  _warn_prf(average, modifier, f\"{metric.capitalize()} is\", len(result))\n",
            "/usr/local/lib/python3.10/dist-packages/sklearn/metrics/_classification.py:1565: UndefinedMetricWarning: Precision is ill-defined and being set to 0.0 in labels with no predicted samples. Use `zero_division` parameter to control this behavior.\n",
            "  _warn_prf(average, modifier, f\"{metric.capitalize()} is\", len(result))\n"
          ]
        }
      ]
    },
    {
      "cell_type": "code",
      "source": [
        "######################## Performance analysis using precision, recal, f1 #################################\n",
        "######################## Skicit learn - Classification report            #################################\n",
        "######################## Running on CPU                                  #################################\n",
        "import torch\n",
        "from sklearn.metrics import classification_report\n",
        "from torchvision import models\n",
        "import torchvision.transforms as transforms\n",
        "from torch.utils.data import DataLoader\n",
        "from tqdm import tqdm  #tqdm for progress bar\n",
        "\n",
        "# Assuming you have the paths to your validation dataset directories\n",
        "normal_val_dir = '/content/drive/MyDrive/Covid_xrays_classifier/xray_covid19_dataset/normal_dataset/normal test'\n",
        "covid_val_dir = '/content/drive/MyDrive/Covid_xrays_classifier/xray_covid19_dataset/Covid_dataset/Covid test'\n",
        "\n",
        "# Define the transformations (you can modify this as needed)\n",
        "transform = transforms.Compose([\n",
        "    transforms.Resize((224, 224)),\n",
        "    transforms.ToTensor(),\n",
        "    transforms.Normalize(mean=[0.485, 0.456, 0.406], std=[0.229, 0.224, 0.225]),\n",
        "])\n",
        "\n",
        "# Create the validation dataset (you'll need to define CustomCovidNormalDataset elsewhere in your code)\n",
        "val_dataset = CustomCovidNormalDataset(normal_val_dir, covid_val_dir, transform=transform)\n",
        "\n",
        "# Create the validation DataLoader\n",
        "val_loader = DataLoader(val_dataset, batch_size=32, shuffle=False, num_workers=4, pin_memory=True)\n",
        "\n",
        "# Now, val_loader is ready to be used in the prediction and evaluation code\n",
        "\n",
        "# Load the model (it was saved in model.pth)\n",
        "model = models.densenet121(pretrained=True)  # Set pretrained=True as you did during initial setup\n",
        "\n",
        "# Modify the classifier to output 2 classes (Covid, Normal)\n",
        "model.classifier = torch.nn.Linear(model.classifier.in_features, 2)\n",
        "\n",
        "# Load the saved weights for all layers except the classifier (this is necessary since the classifier has 2 outputs)\n",
        "checkpoint = torch.load('/content/drive/MyDrive/Covid_xrays_classifier/model.pth', map_location=torch.device('cpu'))\n",
        "\n",
        "# Filter out the classifier weights and load the rest of the model weights\n",
        "checkpoint = {k: v for k, v in checkpoint.items() if 'classifier' not in k}\n",
        "model.load_state_dict(checkpoint, strict=False)\n",
        "\n",
        "# Move the model to CPU (in case it was previously using GPU)\n",
        "model.to(torch.device('cpu'))\n",
        "\n",
        "# Set the model to evaluation mode\n",
        "model.eval()\n",
        "\n",
        "# Store the true labels and predictions\n",
        "true_labels = []\n",
        "predictions = []\n",
        "\n",
        "# Assuming you have the val_loader already defined\n",
        "with torch.no_grad():  # No need to compute gradients for validation\n",
        "    # Use tqdm for a progress bar during validation\n",
        "    for inputs, labels in tqdm(val_loader, desc=\"Evaluating\", leave=False):  # Wrap the loop with tqdm\n",
        "        inputs, labels = inputs.to(torch.device('cpu')), labels.to(torch.device('cpu'))  # Ensure both are on CPU\n",
        "        outputs = model(inputs)\n",
        "\n",
        "        # Get predicted class\n",
        "        _, predicted = torch.max(outputs, 1)\n",
        "\n",
        "        # Store the true labels and predictions\n",
        "        true_labels.extend(labels.numpy())  # Move to CPU before appending\n",
        "        predictions.extend(predicted.numpy())\n",
        "\n",
        "# Print the classification report (Precision, Recall, F1-score)\n",
        "report = classification_report(true_labels, predictions, target_names=['Normal', 'Covid'])\n",
        "print(report)\n",
        "\n"
      ],
      "metadata": {
        "colab": {
          "base_uri": "https://localhost:8080/"
        },
        "id": "EFoAdYa4BcLq",
        "outputId": "5d7315cf-a8d1-47e7-d146-70989362b9c3"
      },
      "execution_count": null,
      "outputs": [
        {
          "output_type": "stream",
          "name": "stderr",
          "text": [
            "/usr/local/lib/python3.10/dist-packages/torch/utils/data/dataloader.py:617: UserWarning: This DataLoader will create 4 worker processes in total. Our suggested max number of worker in current system is 2, which is smaller than what this DataLoader is going to create. Please be aware that excessive worker creation might get DataLoader running slow or even freeze, lower the worker number to avoid potential slowness/freeze if necessary.\n",
            "  warnings.warn(\n",
            "/usr/local/lib/python3.10/dist-packages/torchvision/models/_utils.py:208: UserWarning: The parameter 'pretrained' is deprecated since 0.13 and may be removed in the future, please use 'weights' instead.\n",
            "  warnings.warn(\n",
            "/usr/local/lib/python3.10/dist-packages/torchvision/models/_utils.py:223: UserWarning: Arguments other than a weight enum or `None` for 'weights' are deprecated since 0.13 and may be removed in the future. The current behavior is equivalent to passing `weights=DenseNet121_Weights.IMAGENET1K_V1`. You can also use `weights=DenseNet121_Weights.DEFAULT` to get the most up-to-date weights.\n",
            "  warnings.warn(msg)\n",
            "<ipython-input-50-c0b41ba443ff>:38: FutureWarning: You are using `torch.load` with `weights_only=False` (the current default value), which uses the default pickle module implicitly. It is possible to construct malicious pickle data which will execute arbitrary code during unpickling (See https://github.com/pytorch/pytorch/blob/main/SECURITY.md#untrusted-models for more details). In a future release, the default value for `weights_only` will be flipped to `True`. This limits the functions that could be executed during unpickling. Arbitrary objects will no longer be allowed to be loaded via this mode unless they are explicitly allowlisted by the user via `torch.serialization.add_safe_globals`. We recommend you start setting `weights_only=True` for any use case where you don't have full control of the loaded file. Please open an issue on GitHub for any issues related to this experimental feature.\n",
            "  checkpoint = torch.load('/content/drive/MyDrive/Covid_xrays_classifier/model.pth', map_location=torch.device('cpu'))\n",
            "                                                           "
          ]
        },
        {
          "output_type": "stream",
          "name": "stdout",
          "text": [
            "              precision    recall  f1-score   support\n",
            "\n",
            "      Normal       0.94      1.00      0.96      1020\n",
            "       Covid       0.99      0.81      0.89       362\n",
            "\n",
            "    accuracy                           0.95      1382\n",
            "   macro avg       0.96      0.90      0.93      1382\n",
            "weighted avg       0.95      0.95      0.94      1382\n",
            "\n"
          ]
        },
        {
          "output_type": "stream",
          "name": "stderr",
          "text": [
            "\r"
          ]
        }
      ]
    }
  ]
}